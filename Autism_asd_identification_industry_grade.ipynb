{
  "nbformat": 4,
  "nbformat_minor": 0,
  "metadata": {
    "colab": {
      "name": "Autism_asd_identification_industry_grade.ipynb",
      "provenance": [],
      "collapsed_sections": [],
      "include_colab_link": true
    },
    "kernelspec": {
      "name": "python3",
      "display_name": "Python 3"
    },
    "language_info": {
      "name": "python"
    }
  },
  "cells": [
    {
      "cell_type": "markdown",
      "metadata": {
        "id": "view-in-github",
        "colab_type": "text"
      },
      "source": [
        "<a href=\"https://colab.research.google.com/github/akashsahu992906/machine-learning-projects-/blob/main/Autism_asd_identification_industry_grade.ipynb\" target=\"_parent\"><img src=\"https://colab.research.google.com/assets/colab-badge.svg\" alt=\"Open In Colab\"/></a>"
      ]
    },
    {
      "cell_type": "markdown",
      "metadata": {
        "id": "udYbjjsg_7Y8"
      },
      "source": [
        "**Loading modules/libraries**"
      ]
    },
    {
      "cell_type": "code",
      "metadata": {
        "id": "dZ9qzd3--6ns"
      },
      "source": [
        "import os                   \n",
        "import pandas as pd\n",
        "import numpy as np\n",
        "import matplotlib.pyplot as plt\n",
        "import seaborn as sns\n",
        "pd.set_option('display.max_columns',None)\n",
        "pd.set_option('display.max_rows',None)\n",
        "%matplotlib inline\n",
        "import warnings\n",
        "warnings.simplefilter(action='ignore',category=FutureWarning)\n",
        "def ignore_warn(*args,**kwargs):\n",
        "   pass\n",
        "warnings.warn=ignore_warn\n",
        "from scipy.stats import skew,kurtosis,mode\n",
        "plt.rcParams['figure.figsize']=10,6\n"
      ],
      "execution_count": null,
      "outputs": []
    },
    {
      "cell_type": "code",
      "metadata": {
        "id": "aElCF6paAEcG"
      },
      "source": [
        "autism_train=pd.read_csv('/content/drive/MyDrive/autism project/dataset (1).csv')"
      ],
      "execution_count": null,
      "outputs": []
    },
    {
      "cell_type": "markdown",
      "metadata": {
        "id": "ywag8OKpT-aq"
      },
      "source": [
        "**Dataset Description**"
      ]
    },
    {
      "cell_type": "code",
      "metadata": {
        "colab": {
          "base_uri": "https://localhost:8080/"
        },
        "id": "NdEyol-ZAPcu",
        "outputId": "50ee76b1-27c7-4019-d4e8-c84b71309759"
      },
      "source": [
        "autism_train.info()"
      ],
      "execution_count": null,
      "outputs": [
        {
          "output_type": "stream",
          "text": [
            "<class 'pandas.core.frame.DataFrame'>\n",
            "RangeIndex: 704 entries, 0 to 703\n",
            "Data columns (total 21 columns):\n",
            " #   Column           Non-Null Count  Dtype \n",
            "---  ------           --------------  ----- \n",
            " 0   A1_Score         704 non-null    int64 \n",
            " 1   A2_Score         704 non-null    int64 \n",
            " 2   A3_Score         704 non-null    int64 \n",
            " 3   A4_Score         704 non-null    int64 \n",
            " 4   A5_Score         704 non-null    int64 \n",
            " 5   A6_Score         704 non-null    int64 \n",
            " 6   A7_Score         704 non-null    int64 \n",
            " 7   A8_Score         704 non-null    int64 \n",
            " 8   A9_Score         704 non-null    int64 \n",
            " 9   A10_Score        704 non-null    int64 \n",
            " 10  age              704 non-null    object\n",
            " 11  gender           704 non-null    object\n",
            " 12  ethnicity        704 non-null    object\n",
            " 13  jaundice         704 non-null    object\n",
            " 14  autism           704 non-null    object\n",
            " 15  country_of_res   704 non-null    object\n",
            " 16  used_app_before  704 non-null    object\n",
            " 17  result           704 non-null    int64 \n",
            " 18  age_desc         704 non-null    object\n",
            " 19  relation         704 non-null    object\n",
            " 20  Class_ASD        704 non-null    object\n",
            "dtypes: int64(11), object(10)\n",
            "memory usage: 115.6+ KB\n"
          ],
          "name": "stdout"
        }
      ]
    },
    {
      "cell_type": "code",
      "metadata": {
        "colab": {
          "base_uri": "https://localhost:8080/"
        },
        "id": "5DqumiBgATKq",
        "outputId": "5f00831b-046b-4093-dd90-fe18301fc924"
      },
      "source": [
        "autism_train.shape"
      ],
      "execution_count": null,
      "outputs": [
        {
          "output_type": "execute_result",
          "data": {
            "text/plain": [
              "(704, 21)"
            ]
          },
          "metadata": {
            "tags": []
          },
          "execution_count": 5
        }
      ]
    },
    {
      "cell_type": "code",
      "metadata": {
        "colab": {
          "base_uri": "https://localhost:8080/",
          "height": 297
        },
        "id": "pRR7u7E9AaU2",
        "outputId": "eebd2a9e-9825-466a-b148-e0c9deeaa706"
      },
      "source": [
        "autism_train.describe()"
      ],
      "execution_count": null,
      "outputs": [
        {
          "output_type": "execute_result",
          "data": {
            "text/html": [
              "<div>\n",
              "<style scoped>\n",
              "    .dataframe tbody tr th:only-of-type {\n",
              "        vertical-align: middle;\n",
              "    }\n",
              "\n",
              "    .dataframe tbody tr th {\n",
              "        vertical-align: top;\n",
              "    }\n",
              "\n",
              "    .dataframe thead th {\n",
              "        text-align: right;\n",
              "    }\n",
              "</style>\n",
              "<table border=\"1\" class=\"dataframe\">\n",
              "  <thead>\n",
              "    <tr style=\"text-align: right;\">\n",
              "      <th></th>\n",
              "      <th>A1_Score</th>\n",
              "      <th>A2_Score</th>\n",
              "      <th>A3_Score</th>\n",
              "      <th>A4_Score</th>\n",
              "      <th>A5_Score</th>\n",
              "      <th>A6_Score</th>\n",
              "      <th>A7_Score</th>\n",
              "      <th>A8_Score</th>\n",
              "      <th>A9_Score</th>\n",
              "      <th>A10_Score</th>\n",
              "      <th>result</th>\n",
              "    </tr>\n",
              "  </thead>\n",
              "  <tbody>\n",
              "    <tr>\n",
              "      <th>count</th>\n",
              "      <td>704.000000</td>\n",
              "      <td>704.000000</td>\n",
              "      <td>704.000000</td>\n",
              "      <td>704.000000</td>\n",
              "      <td>704.000000</td>\n",
              "      <td>704.000000</td>\n",
              "      <td>704.000000</td>\n",
              "      <td>704.000000</td>\n",
              "      <td>704.000000</td>\n",
              "      <td>704.000000</td>\n",
              "      <td>704.000000</td>\n",
              "    </tr>\n",
              "    <tr>\n",
              "      <th>mean</th>\n",
              "      <td>0.721591</td>\n",
              "      <td>0.453125</td>\n",
              "      <td>0.457386</td>\n",
              "      <td>0.495739</td>\n",
              "      <td>0.498580</td>\n",
              "      <td>0.284091</td>\n",
              "      <td>0.417614</td>\n",
              "      <td>0.649148</td>\n",
              "      <td>0.323864</td>\n",
              "      <td>0.573864</td>\n",
              "      <td>4.875000</td>\n",
              "    </tr>\n",
              "    <tr>\n",
              "      <th>std</th>\n",
              "      <td>0.448535</td>\n",
              "      <td>0.498152</td>\n",
              "      <td>0.498535</td>\n",
              "      <td>0.500337</td>\n",
              "      <td>0.500353</td>\n",
              "      <td>0.451301</td>\n",
              "      <td>0.493516</td>\n",
              "      <td>0.477576</td>\n",
              "      <td>0.468281</td>\n",
              "      <td>0.494866</td>\n",
              "      <td>2.501493</td>\n",
              "    </tr>\n",
              "    <tr>\n",
              "      <th>min</th>\n",
              "      <td>0.000000</td>\n",
              "      <td>0.000000</td>\n",
              "      <td>0.000000</td>\n",
              "      <td>0.000000</td>\n",
              "      <td>0.000000</td>\n",
              "      <td>0.000000</td>\n",
              "      <td>0.000000</td>\n",
              "      <td>0.000000</td>\n",
              "      <td>0.000000</td>\n",
              "      <td>0.000000</td>\n",
              "      <td>0.000000</td>\n",
              "    </tr>\n",
              "    <tr>\n",
              "      <th>25%</th>\n",
              "      <td>0.000000</td>\n",
              "      <td>0.000000</td>\n",
              "      <td>0.000000</td>\n",
              "      <td>0.000000</td>\n",
              "      <td>0.000000</td>\n",
              "      <td>0.000000</td>\n",
              "      <td>0.000000</td>\n",
              "      <td>0.000000</td>\n",
              "      <td>0.000000</td>\n",
              "      <td>0.000000</td>\n",
              "      <td>3.000000</td>\n",
              "    </tr>\n",
              "    <tr>\n",
              "      <th>50%</th>\n",
              "      <td>1.000000</td>\n",
              "      <td>0.000000</td>\n",
              "      <td>0.000000</td>\n",
              "      <td>0.000000</td>\n",
              "      <td>0.000000</td>\n",
              "      <td>0.000000</td>\n",
              "      <td>0.000000</td>\n",
              "      <td>1.000000</td>\n",
              "      <td>0.000000</td>\n",
              "      <td>1.000000</td>\n",
              "      <td>4.000000</td>\n",
              "    </tr>\n",
              "    <tr>\n",
              "      <th>75%</th>\n",
              "      <td>1.000000</td>\n",
              "      <td>1.000000</td>\n",
              "      <td>1.000000</td>\n",
              "      <td>1.000000</td>\n",
              "      <td>1.000000</td>\n",
              "      <td>1.000000</td>\n",
              "      <td>1.000000</td>\n",
              "      <td>1.000000</td>\n",
              "      <td>1.000000</td>\n",
              "      <td>1.000000</td>\n",
              "      <td>7.000000</td>\n",
              "    </tr>\n",
              "    <tr>\n",
              "      <th>max</th>\n",
              "      <td>1.000000</td>\n",
              "      <td>1.000000</td>\n",
              "      <td>1.000000</td>\n",
              "      <td>1.000000</td>\n",
              "      <td>1.000000</td>\n",
              "      <td>1.000000</td>\n",
              "      <td>1.000000</td>\n",
              "      <td>1.000000</td>\n",
              "      <td>1.000000</td>\n",
              "      <td>1.000000</td>\n",
              "      <td>10.000000</td>\n",
              "    </tr>\n",
              "  </tbody>\n",
              "</table>\n",
              "</div>"
            ],
            "text/plain": [
              "         A1_Score    A2_Score    A3_Score    A4_Score    A5_Score    A6_Score  \\\n",
              "count  704.000000  704.000000  704.000000  704.000000  704.000000  704.000000   \n",
              "mean     0.721591    0.453125    0.457386    0.495739    0.498580    0.284091   \n",
              "std      0.448535    0.498152    0.498535    0.500337    0.500353    0.451301   \n",
              "min      0.000000    0.000000    0.000000    0.000000    0.000000    0.000000   \n",
              "25%      0.000000    0.000000    0.000000    0.000000    0.000000    0.000000   \n",
              "50%      1.000000    0.000000    0.000000    0.000000    0.000000    0.000000   \n",
              "75%      1.000000    1.000000    1.000000    1.000000    1.000000    1.000000   \n",
              "max      1.000000    1.000000    1.000000    1.000000    1.000000    1.000000   \n",
              "\n",
              "         A7_Score    A8_Score    A9_Score   A10_Score      result  \n",
              "count  704.000000  704.000000  704.000000  704.000000  704.000000  \n",
              "mean     0.417614    0.649148    0.323864    0.573864    4.875000  \n",
              "std      0.493516    0.477576    0.468281    0.494866    2.501493  \n",
              "min      0.000000    0.000000    0.000000    0.000000    0.000000  \n",
              "25%      0.000000    0.000000    0.000000    0.000000    3.000000  \n",
              "50%      0.000000    1.000000    0.000000    1.000000    4.000000  \n",
              "75%      1.000000    1.000000    1.000000    1.000000    7.000000  \n",
              "max      1.000000    1.000000    1.000000    1.000000   10.000000  "
            ]
          },
          "metadata": {
            "tags": []
          },
          "execution_count": 5
        }
      ]
    },
    {
      "cell_type": "code",
      "metadata": {
        "colab": {
          "base_uri": "https://localhost:8080/",
          "height": 329
        },
        "id": "_PnZQEsSwxqY",
        "outputId": "e6a9af5a-b82d-4dea-dbb3-cc392ff12727"
      },
      "source": [
        "sns.heatmap(autism_train.corr(),annot=True)"
      ],
      "execution_count": null,
      "outputs": [
        {
          "output_type": "execute_result",
          "data": {
            "text/plain": [
              "<matplotlib.axes._subplots.AxesSubplot at 0x7f9185bd1610>"
            ]
          },
          "metadata": {
            "tags": []
          },
          "execution_count": 14
        },
        {
          "output_type": "display_data",
          "data": {
            "image/png": "[encoded data removed]",
            "text/plain": [
              "<Figure size 432x288 with 2 Axes>"
            ]
          },
          "metadata": {
            "tags": [],
            "needs_background": "light"
          }
        }
      ]
    },
    {
      "cell_type": "code",
      "metadata": {
        "id": "LoSo-94Ix_uW"
      },
      "source": [
        "autism_train=autism_train.drop('result',axis=1)"
      ],
      "execution_count": null,
      "outputs": []
    },
    {
      "cell_type": "markdown",
      "metadata": {
        "id": "KF4H3GSRAmjz"
      },
      "source": [
        "**Feature analysis and engineering**"
      ]
    },
    {
      "cell_type": "markdown",
      "metadata": {
        "id": "yi0GTiQFA1ri"
      },
      "source": [
        "*Target Variable*"
      ]
    },
    {
      "cell_type": "code",
      "metadata": {
        "colab": {
          "base_uri": "https://localhost:8080/"
        },
        "id": "65gnM2FA8eOK",
        "outputId": "463232f0-9df9-4457-cff4-3bb64dbdb460"
      },
      "source": [
        "autism_train['Class_ASD'].value_counts()"
      ],
      "execution_count": null,
      "outputs": [
        {
          "output_type": "execute_result",
          "data": {
            "text/plain": [
              "NO      515\n",
              "YES     188\n",
              "YES}      1\n",
              "Name: Class_ASD, dtype: int64"
            ]
          },
          "metadata": {
            "tags": []
          },
          "execution_count": 8
        }
      ]
    },
    {
      "cell_type": "code",
      "metadata": {
        "colab": {
          "base_uri": "https://localhost:8080/",
          "height": 297
        },
        "id": "uDCvNtqjAdIY",
        "outputId": "1f188654-9d00-4bf3-bc5e-d53eeb9f270a"
      },
      "source": [
        "#distribution of target variable\n",
        "sns.countplot(autism_train['Class_ASD'])"
      ],
      "execution_count": null,
      "outputs": [
        {
          "output_type": "execute_result",
          "data": {
            "text/plain": [
              "<matplotlib.axes._subplots.AxesSubplot at 0x7f7b275abbd0>"
            ]
          },
          "metadata": {
            "tags": []
          },
          "execution_count": 9
        },
        {
          "output_type": "display_data",
          "data": {
            "image/png": "[encoded data removed]",
            "text/plain": [
              "<Figure size 432x288 with 1 Axes>"
            ]
          },
          "metadata": {
            "tags": [],
            "needs_background": "light"
          }
        }
      ]
    },
    {
      "cell_type": "code",
      "metadata": {
        "id": "ZJhGHQ5b_d-k"
      },
      "source": [
        "autism_train=autism_train.replace(to_replace=['YES}'],value='YES')"
      ],
      "execution_count": null,
      "outputs": []
    },
    {
      "cell_type": "code",
      "metadata": {
        "colab": {
          "base_uri": "https://localhost:8080/"
        },
        "id": "RnyEupU__utE",
        "outputId": "379acd68-9634-463d-d6c5-d9d5c7864da8"
      },
      "source": [
        "autism_train['Class_ASD'].value_counts()"
      ],
      "execution_count": null,
      "outputs": [
        {
          "output_type": "execute_result",
          "data": {
            "text/plain": [
              "NO     515\n",
              "YES    189\n",
              "Name: Class_ASD, dtype: int64"
            ]
          },
          "metadata": {
            "tags": []
          },
          "execution_count": 11
        }
      ]
    },
    {
      "cell_type": "code",
      "metadata": {
        "colab": {
          "base_uri": "https://localhost:8080/",
          "height": 297
        },
        "id": "kk2fzBYsAAr0",
        "outputId": "6aaaa765-2178-4754-8f07-052a4644cfd3"
      },
      "source": [
        "sns.countplot(autism_train['Class_ASD'])"
      ],
      "execution_count": null,
      "outputs": [
        {
          "output_type": "execute_result",
          "data": {
            "text/plain": [
              "<matplotlib.axes._subplots.AxesSubplot at 0x7f7b27574d10>"
            ]
          },
          "metadata": {
            "tags": []
          },
          "execution_count": 12
        },
        {
          "output_type": "display_data",
          "data": {
            "image/png": "[encoded data removed]",
            "text/plain": [
              "<Figure size 432x288 with 1 Axes>"
            ]
          },
          "metadata": {
            "tags": [],
            "needs_background": "light"
          }
        }
      ]
    },
    {
      "cell_type": "markdown",
      "metadata": {
        "id": "eVgvcltk40My"
      },
      "source": [
        "*Data Imbalance Handling*\n"
      ]
    },
    {
      "cell_type": "code",
      "metadata": {
        "id": "nQFz9_zsNd3l"
      },
      "source": [
        "count_no,count_yes=autism_train.Class_ASD.value_counts()\n",
        "aut_no=autism_train[autism_train['Class_ASD']==\"NO\"]\n",
        "aut_yes=autism_train[autism_train['Class_ASD']==\"YES\"]"
      ],
      "execution_count": null,
      "outputs": []
    },
    {
      "cell_type": "code",
      "metadata": {
        "id": "XzSyzHKs59nJ"
      },
      "source": [
        "aut_no=aut_no.sample(count_yes,random_state=100)"
      ],
      "execution_count": null,
      "outputs": []
    },
    {
      "cell_type": "code",
      "metadata": {
        "colab": {
          "base_uri": "https://localhost:8080/"
        },
        "id": "45oX9vgE66O3",
        "outputId": "ac7631d7-72fd-4273-adca-3e881d968193"
      },
      "source": [
        "aut_no.shape"
      ],
      "execution_count": null,
      "outputs": [
        {
          "output_type": "execute_result",
          "data": {
            "text/plain": [
              "(189, 20)"
            ]
          },
          "metadata": {
            "tags": []
          },
          "execution_count": 10
        }
      ]
    },
    {
      "cell_type": "code",
      "metadata": {
        "id": "x5ntVik57Adw"
      },
      "source": [
        "autism_train=pd.concat([aut_yes,aut_no],axis=0)"
      ],
      "execution_count": null,
      "outputs": []
    },
    {
      "cell_type": "code",
      "metadata": {
        "colab": {
          "base_uri": "https://localhost:8080/"
        },
        "id": "fCJ75d-n7R6s",
        "outputId": "3698393d-d178-4ef3-c552-e6e652967c0b"
      },
      "source": [
        "autism_train.Class_ASD.value_counts()"
      ],
      "execution_count": null,
      "outputs": [
        {
          "output_type": "execute_result",
          "data": {
            "text/plain": [
              "YES    189\n",
              "NO     189\n",
              "Name: Class_ASD, dtype: int64"
            ]
          },
          "metadata": {
            "tags": []
          },
          "execution_count": 8
        }
      ]
    },
    {
      "cell_type": "markdown",
      "metadata": {
        "id": "ot97FLhxUKmA"
      },
      "source": [
        "*Unique values and most frequent values per group*"
      ]
    },
    {
      "cell_type": "code",
      "metadata": {
        "colab": {
          "base_uri": "https://localhost:8080/",
          "height": 669
        },
        "id": "5DsMryPuUG4Q",
        "outputId": "206c77d0-028a-4bf7-d4f4-b3754f6e0329"
      },
      "source": [
        "unique_df=pd.DataFrame({'columns':autism_train.columns,'unique':[autism_train[i].unique() for i in autism_train.columns],'number of unique':[len(autism_train[i].unique()) for i in autism_train.columns],'most_frequent':[autism_train[i].value_counts().head(1).index[0] for i in autism_train.columns]})\n",
        "unique_df"
      ],
      "execution_count": null,
      "outputs": [
        {
          "output_type": "execute_result",
          "data": {
            "text/html": [
              "<div>\n",
              "<style scoped>\n",
              "    .dataframe tbody tr th:only-of-type {\n",
              "        vertical-align: middle;\n",
              "    }\n",
              "\n",
              "    .dataframe tbody tr th {\n",
              "        vertical-align: top;\n",
              "    }\n",
              "\n",
              "    .dataframe thead th {\n",
              "        text-align: right;\n",
              "    }\n",
              "</style>\n",
              "<table border=\"1\" class=\"dataframe\">\n",
              "  <thead>\n",
              "    <tr style=\"text-align: right;\">\n",
              "      <th></th>\n",
              "      <th>columns</th>\n",
              "      <th>unique</th>\n",
              "      <th>number of unique</th>\n",
              "      <th>most_frequent</th>\n",
              "    </tr>\n",
              "  </thead>\n",
              "  <tbody>\n",
              "    <tr>\n",
              "      <th>0</th>\n",
              "      <td>A1_Score</td>\n",
              "      <td>[1, 0]</td>\n",
              "      <td>2</td>\n",
              "      <td>1</td>\n",
              "    </tr>\n",
              "    <tr>\n",
              "      <th>1</th>\n",
              "      <td>A2_Score</td>\n",
              "      <td>[1, 0]</td>\n",
              "      <td>2</td>\n",
              "      <td>1</td>\n",
              "    </tr>\n",
              "    <tr>\n",
              "      <th>2</th>\n",
              "      <td>A3_Score</td>\n",
              "      <td>[0, 1]</td>\n",
              "      <td>2</td>\n",
              "      <td>1</td>\n",
              "    </tr>\n",
              "    <tr>\n",
              "      <th>3</th>\n",
              "      <td>A4_Score</td>\n",
              "      <td>[1, 0]</td>\n",
              "      <td>2</td>\n",
              "      <td>1</td>\n",
              "    </tr>\n",
              "    <tr>\n",
              "      <th>4</th>\n",
              "      <td>A5_Score</td>\n",
              "      <td>[1, 0]</td>\n",
              "      <td>2</td>\n",
              "      <td>1</td>\n",
              "    </tr>\n",
              "    <tr>\n",
              "      <th>5</th>\n",
              "      <td>A6_Score</td>\n",
              "      <td>[0, 1]</td>\n",
              "      <td>2</td>\n",
              "      <td>0</td>\n",
              "    </tr>\n",
              "    <tr>\n",
              "      <th>6</th>\n",
              "      <td>A7_Score</td>\n",
              "      <td>[1, 0]</td>\n",
              "      <td>2</td>\n",
              "      <td>1</td>\n",
              "    </tr>\n",
              "    <tr>\n",
              "      <th>7</th>\n",
              "      <td>A8_Score</td>\n",
              "      <td>[1, 0]</td>\n",
              "      <td>2</td>\n",
              "      <td>1</td>\n",
              "    </tr>\n",
              "    <tr>\n",
              "      <th>8</th>\n",
              "      <td>A9_Score</td>\n",
              "      <td>[1, 0]</td>\n",
              "      <td>2</td>\n",
              "      <td>0</td>\n",
              "    </tr>\n",
              "    <tr>\n",
              "      <th>9</th>\n",
              "      <td>A10_Score</td>\n",
              "      <td>[1, 0]</td>\n",
              "      <td>2</td>\n",
              "      <td>1</td>\n",
              "    </tr>\n",
              "    <tr>\n",
              "      <th>10</th>\n",
              "      <td>age</td>\n",
              "      <td>[27, 36, 17, 33, 37, 18, 53, 35, 20, 21, 47, 3...</td>\n",
              "      <td>44</td>\n",
              "      <td>21</td>\n",
              "    </tr>\n",
              "    <tr>\n",
              "      <th>11</th>\n",
              "      <td>gender</td>\n",
              "      <td>[m, f]</td>\n",
              "      <td>2</td>\n",
              "      <td>f</td>\n",
              "    </tr>\n",
              "    <tr>\n",
              "      <th>12</th>\n",
              "      <td>ethnicity</td>\n",
              "      <td>[Latino, Others, Asian, White-European, Black,...</td>\n",
              "      <td>11</td>\n",
              "      <td>White-European</td>\n",
              "    </tr>\n",
              "    <tr>\n",
              "      <th>13</th>\n",
              "      <td>jaundice</td>\n",
              "      <td>[yes, no]</td>\n",
              "      <td>2</td>\n",
              "      <td>no</td>\n",
              "    </tr>\n",
              "    <tr>\n",
              "      <th>14</th>\n",
              "      <td>autism</td>\n",
              "      <td>[yes, no]</td>\n",
              "      <td>2</td>\n",
              "      <td>no</td>\n",
              "    </tr>\n",
              "    <tr>\n",
              "      <th>15</th>\n",
              "      <td>country_of_res</td>\n",
              "      <td>[Spain, 'United States', Bahamas, 'South Afric...</td>\n",
              "      <td>52</td>\n",
              "      <td>'United States'</td>\n",
              "    </tr>\n",
              "    <tr>\n",
              "      <th>16</th>\n",
              "      <td>used_app_before</td>\n",
              "      <td>[no, yes]</td>\n",
              "      <td>2</td>\n",
              "      <td>no</td>\n",
              "    </tr>\n",
              "    <tr>\n",
              "      <th>17</th>\n",
              "      <td>age_desc</td>\n",
              "      <td>['18 and more']</td>\n",
              "      <td>1</td>\n",
              "      <td>'18 and more'</td>\n",
              "    </tr>\n",
              "    <tr>\n",
              "      <th>18</th>\n",
              "      <td>relation</td>\n",
              "      <td>[Parent, Self, 'Health care professional', Rel...</td>\n",
              "      <td>6</td>\n",
              "      <td>Self</td>\n",
              "    </tr>\n",
              "    <tr>\n",
              "      <th>19</th>\n",
              "      <td>Class_ASD</td>\n",
              "      <td>[YES, NO]</td>\n",
              "      <td>2</td>\n",
              "      <td>YES</td>\n",
              "    </tr>\n",
              "  </tbody>\n",
              "</table>\n",
              "</div>"
            ],
            "text/plain": [
              "            columns                                             unique  \\\n",
              "0          A1_Score                                             [1, 0]   \n",
              "1          A2_Score                                             [1, 0]   \n",
              "2          A3_Score                                             [0, 1]   \n",
              "3          A4_Score                                             [1, 0]   \n",
              "4          A5_Score                                             [1, 0]   \n",
              "5          A6_Score                                             [0, 1]   \n",
              "6          A7_Score                                             [1, 0]   \n",
              "7          A8_Score                                             [1, 0]   \n",
              "8          A9_Score                                             [1, 0]   \n",
              "9         A10_Score                                             [1, 0]   \n",
              "10              age  [27, 36, 17, 33, 37, 18, 53, 35, 20, 21, 47, 3...   \n",
              "11           gender                                             [m, f]   \n",
              "12        ethnicity  [Latino, Others, Asian, White-European, Black,...   \n",
              "13         jaundice                                          [yes, no]   \n",
              "14           autism                                          [yes, no]   \n",
              "15   country_of_res  [Spain, 'United States', Bahamas, 'South Afric...   \n",
              "16  used_app_before                                          [no, yes]   \n",
              "17         age_desc                                    ['18 and more']   \n",
              "18         relation  [Parent, Self, 'Health care professional', Rel...   \n",
              "19        Class_ASD                                          [YES, NO]   \n",
              "\n",
              "    number of unique    most_frequent  \n",
              "0                  2                1  \n",
              "1                  2                1  \n",
              "2                  2                1  \n",
              "3                  2                1  \n",
              "4                  2                1  \n",
              "5                  2                0  \n",
              "6                  2                1  \n",
              "7                  2                1  \n",
              "8                  2                0  \n",
              "9                  2                1  \n",
              "10                44               21  \n",
              "11                 2                f  \n",
              "12                11   White-European  \n",
              "13                 2               no  \n",
              "14                 2               no  \n",
              "15                52  'United States'  \n",
              "16                 2               no  \n",
              "17                 1    '18 and more'  \n",
              "18                 6             Self  \n",
              "19                 2              YES  "
            ]
          },
          "metadata": {
            "tags": []
          },
          "execution_count": 9
        }
      ]
    },
    {
      "cell_type": "code",
      "metadata": {
        "id": "KO7wY-ERzYKQ"
      },
      "source": [
        "#Dropping the column with the least variance and unique values \n",
        "autism_train=autism_train.drop('age_desc',axis=1)"
      ],
      "execution_count": null,
      "outputs": []
    },
    {
      "cell_type": "markdown",
      "metadata": {
        "id": "Q9zCGHS6Udsk"
      },
      "source": [
        "*Missing values*"
      ]
    },
    {
      "cell_type": "code",
      "metadata": {
        "id": "5QT_xBhkUdaX"
      },
      "source": [
        "missing_df=pd.DataFrame({'columns':autism_train.columns,'missing_values':[sum(autism_train[x].isna()) for x in autism_train.columns],'missing_ratio':[sum(autism_train[x].isna())/autism_train.shape[0] for x in autism_train.columns]})"
      ],
      "execution_count": null,
      "outputs": []
    },
    {
      "cell_type": "code",
      "metadata": {
        "colab": {
          "base_uri": "https://localhost:8080/",
          "height": 49
        },
        "id": "G6X_KqSfUY3y",
        "outputId": "42e9a10b-fffd-48be-acd1-9c8e1d9382c0"
      },
      "source": [
        "missing_df_greater_than_zero=missing_df[missing_df['missing_values']>0]\n",
        "missing_df_greater_than_zero.sort_values(by='missing_ratio',ascending=False) "
      ],
      "execution_count": null,
      "outputs": [
        {
          "output_type": "execute_result",
          "data": {
            "text/html": [
              "<div>\n",
              "<style scoped>\n",
              "    .dataframe tbody tr th:only-of-type {\n",
              "        vertical-align: middle;\n",
              "    }\n",
              "\n",
              "    .dataframe tbody tr th {\n",
              "        vertical-align: top;\n",
              "    }\n",
              "\n",
              "    .dataframe thead th {\n",
              "        text-align: right;\n",
              "    }\n",
              "</style>\n",
              "<table border=\"1\" class=\"dataframe\">\n",
              "  <thead>\n",
              "    <tr style=\"text-align: right;\">\n",
              "      <th></th>\n",
              "      <th>columns</th>\n",
              "      <th>missing_values</th>\n",
              "      <th>missing_ratio</th>\n",
              "    </tr>\n",
              "  </thead>\n",
              "  <tbody>\n",
              "  </tbody>\n",
              "</table>\n",
              "</div>"
            ],
            "text/plain": [
              "Empty DataFrame\n",
              "Columns: [columns, missing_values, missing_ratio]\n",
              "Index: []"
            ]
          },
          "metadata": {
            "tags": []
          },
          "execution_count": 17
        }
      ]
    },
    {
      "cell_type": "markdown",
      "metadata": {
        "id": "UqhL6Q8AZ1BP"
      },
      "source": [
        "*Replace all '?' instances with the mode of the column*\n"
      ]
    },
    {
      "cell_type": "code",
      "metadata": {
        "colab": {
          "base_uri": "https://localhost:8080/"
        },
        "id": "dkoLQxphVsmw",
        "outputId": "5041c35c-39a7-41dd-addb-a3053979b233"
      },
      "source": [
        "autism_train['relation'].unique()"
      ],
      "execution_count": null,
      "outputs": [
        {
          "output_type": "execute_result",
          "data": {
            "text/plain": [
              "array(['Self', 'Parent', '?', \"'Health care professional'\", 'Relative',\n",
              "       'Others'], dtype=object)"
            ]
          },
          "metadata": {
            "tags": []
          },
          "execution_count": 4
        }
      ]
    },
    {
      "cell_type": "code",
      "metadata": {
        "id": "84YkSb9IZETH"
      },
      "source": [
        "autism_train['relation']=autism_train['relation'].str.replace('?','Self')"
      ],
      "execution_count": null,
      "outputs": []
    },
    {
      "cell_type": "code",
      "metadata": {
        "colab": {
          "base_uri": "https://localhost:8080/"
        },
        "id": "mwQAQaXVZoWk",
        "outputId": "55a32784-2e77-4a6d-f1a4-052053e7f54d"
      },
      "source": [
        "autism_train['relation'].unique()"
      ],
      "execution_count": null,
      "outputs": [
        {
          "output_type": "execute_result",
          "data": {
            "text/plain": [
              "array(['Self', 'Parent', \"'Health care professional'\", 'Relative',\n",
              "       'Others'], dtype=object)"
            ]
          },
          "metadata": {
            "tags": []
          },
          "execution_count": 6
        }
      ]
    },
    {
      "cell_type": "code",
      "metadata": {
        "colab": {
          "base_uri": "https://localhost:8080/"
        },
        "id": "ayaqGEalX6po",
        "outputId": "865e70c2-486e-4122-ffae-fbfd72d058a9"
      },
      "source": [
        "autism_train['ethnicity'].unique()"
      ],
      "execution_count": null,
      "outputs": [
        {
          "output_type": "execute_result",
          "data": {
            "text/plain": [
              "array(['White-European', 'Latino', '?', 'Others', 'Asian',\n",
              "       \"'Middle Eastern '\", 'Pasifika', 'Black', \"'South Asian'\",\n",
              "       'Hispanic', 'Turkish', 'others'], dtype=object)"
            ]
          },
          "metadata": {
            "tags": []
          },
          "execution_count": 5
        }
      ]
    },
    {
      "cell_type": "code",
      "metadata": {
        "id": "x5qGNPm5aN55"
      },
      "source": [
        "autism_train['ethnicity']=autism_train['ethnicity'].str.replace('?','White-European')"
      ],
      "execution_count": null,
      "outputs": []
    },
    {
      "cell_type": "code",
      "metadata": {
        "colab": {
          "base_uri": "https://localhost:8080/"
        },
        "id": "I6CcGsz3aYIY",
        "outputId": "41fdfbec-8e6e-4651-860a-3b6266edc338"
      },
      "source": [
        "autism_train['ethnicity'].unique()"
      ],
      "execution_count": null,
      "outputs": [
        {
          "output_type": "execute_result",
          "data": {
            "text/plain": [
              "array(['White-European', 'Latino', 'Others', 'Asian', \"'Middle Eastern '\",\n",
              "       'Pasifika', 'Black', \"'South Asian'\", 'Hispanic', 'Turkish',\n",
              "       'others'], dtype=object)"
            ]
          },
          "metadata": {
            "tags": []
          },
          "execution_count": 9
        }
      ]
    },
    {
      "cell_type": "code",
      "metadata": {
        "colab": {
          "base_uri": "https://localhost:8080/"
        },
        "id": "E8-VHNB4YdYH",
        "outputId": "ab9b7ef2-379f-4358-e4db-f6f1d5c727b8"
      },
      "source": [
        "autism_train['age'].unique()"
      ],
      "execution_count": null,
      "outputs": [
        {
          "output_type": "execute_result",
          "data": {
            "text/plain": [
              "array(['26', '24', '27', '35', '40', '36', '64', '29', '17', '33', '18',\n",
              "       '31', '43', '37', '55', '34', '53', '20', '30', '21', '383', '47',\n",
              "       '28', '32', '44', '19', '45', '42', '22', '39', '25', '38', '23',\n",
              "       '54', '60', '50', '41', '46', '56', '58', '61', '59', '52', '48',\n",
              "       '51', '49', '?'], dtype=object)"
            ]
          },
          "metadata": {
            "tags": []
          },
          "execution_count": 10
        }
      ]
    },
    {
      "cell_type": "code",
      "metadata": {
        "id": "FV9L73Qea-aY"
      },
      "source": [
        "autism_train['age']=autism_train['age'].str.replace('?','21')"
      ],
      "execution_count": null,
      "outputs": []
    },
    {
      "cell_type": "code",
      "metadata": {
        "colab": {
          "base_uri": "https://localhost:8080/"
        },
        "id": "Xgr2WhfMbFlx",
        "outputId": "796533ff-d188-4028-c35a-77f27aae3f1e"
      },
      "source": [
        "autism_train['age'].unique()"
      ],
      "execution_count": null,
      "outputs": [
        {
          "output_type": "execute_result",
          "data": {
            "text/plain": [
              "array(['26', '24', '27', '35', '40', '36', '64', '29', '17', '33', '18',\n",
              "       '31', '43', '37', '55', '34', '53', '20', '30', '21', '383', '47',\n",
              "       '28', '32', '44', '19', '45', '42', '22', '39', '25', '38', '23',\n",
              "       '54', '60', '50', '41', '46', '56', '58', '61', '59', '52', '48',\n",
              "       '51', '49'], dtype=object)"
            ]
          },
          "metadata": {
            "tags": []
          },
          "execution_count": 12
        }
      ]
    },
    {
      "cell_type": "code",
      "metadata": {
        "id": "bghZ8VmFwmEG"
      },
      "source": [
        "autism_train['age']=autism_train.age.astype('int64')"
      ],
      "execution_count": null,
      "outputs": []
    },
    {
      "cell_type": "code",
      "metadata": {
        "colab": {
          "base_uri": "https://localhost:8080/",
          "height": 296
        },
        "id": "kpayzsmL_SWh",
        "outputId": "f58827ec-22eb-4999-a116-7de135e1a43e"
      },
      "source": [
        "#check for outliers \n",
        "sns.boxplot(autism_train['age'])"
      ],
      "execution_count": null,
      "outputs": [
        {
          "output_type": "execute_result",
          "data": {
            "text/plain": [
              "<matplotlib.axes._subplots.AxesSubplot at 0x7f141974b510>"
            ]
          },
          "metadata": {
            "tags": []
          },
          "execution_count": 15
        },
        {
          "output_type": "display_data",
          "data": {
            "image/png": "[encoded data removed]",
            "text/plain": [
              "<Figure size 432x288 with 1 Axes>"
            ]
          },
          "metadata": {
            "tags": [],
            "needs_background": "light"
          }
        }
      ]
    },
    {
      "cell_type": "code",
      "metadata": {
        "id": "8_NhE8H5zz6b"
      },
      "source": [
        "#drop outliers \n",
        "autism_train=autism_train.drop(autism_train[autism_train['age']>150].index,axis=0)"
      ],
      "execution_count": null,
      "outputs": []
    },
    {
      "cell_type": "code",
      "metadata": {
        "colab": {
          "base_uri": "https://localhost:8080/",
          "height": 296
        },
        "id": "vyIAt7Hl0Grm",
        "outputId": "f44bc14c-a763-41cb-8c62-99257e2fe041"
      },
      "source": [
        "sns.distplot(autism_train['age'])\n",
        "print('skew of age is {}'.format(skew(autism_train['age'])))"
      ],
      "execution_count": null,
      "outputs": [
        {
          "output_type": "stream",
          "text": [
            "skew of age is 1.018993345815813\n"
          ],
          "name": "stdout"
        },
        {
          "output_type": "display_data",
          "data": {
            "image/png": "[encoded data removed]",
            "text/plain": [
              "<Figure size 432x288 with 1 Axes>"
            ]
          },
          "metadata": {
            "tags": [],
            "needs_background": "light"
          }
        }
      ]
    },
    {
      "cell_type": "markdown",
      "metadata": {
        "id": "SAdkaGWtB48H"
      },
      "source": [
        "*Barplots*"
      ]
    },
    {
      "cell_type": "code",
      "metadata": {
        "colab": {
          "base_uri": "https://localhost:8080/",
          "height": 403
        },
        "id": "k3qLsXu2BDZH",
        "outputId": "9c1c054c-f0a7-41cc-e4b9-c7eeb2692e1e"
      },
      "source": [
        "#ethnicity with most asd cases \n",
        "autism_train.groupby(['ethnicity','Class_ASD'])['Class_ASD'].count().sort_values(ascending=False).plot(kind=\"bar\",stacked=False)"
      ],
      "execution_count": null,
      "outputs": [
        {
          "output_type": "execute_result",
          "data": {
            "text/plain": [
              "<matplotlib.axes._subplots.AxesSubplot at 0x7fda48516f10>"
            ]
          },
          "metadata": {
            "tags": []
          },
          "execution_count": 9
        },
        {
          "output_type": "display_data",
          "data": {
            "image/png": "[encoded data removed]",
            "text/plain": [
              "<Figure size 432x288 with 1 Axes>"
            ]
          },
          "metadata": {
            "tags": [],
            "needs_background": "light"
          }
        }
      ]
    },
    {
      "cell_type": "code",
      "metadata": {
        "colab": {
          "base_uri": "https://localhost:8080/",
          "height": 429
        },
        "id": "wZu0N4_QFUhR",
        "outputId": "77838dc9-7e24-47e6-b8d9-9b9de4425ad6"
      },
      "source": [
        "#country with most asd cases\n",
        "autism_train.groupby(['country_of_res','Class_ASD'])['Class_ASD'].count().sort_values(ascending=False).head(20).plot(kind=\"bar\",stacked=False)"
      ],
      "execution_count": null,
      "outputs": [
        {
          "output_type": "execute_result",
          "data": {
            "text/plain": [
              "<matplotlib.axes._subplots.AxesSubplot at 0x7f7d78bb2150>"
            ]
          },
          "metadata": {
            "tags": []
          },
          "execution_count": 14
        },
        {
          "output_type": "display_data",
          "data": {
            "image/png": "[encoded data removed]",
            "text/plain": [
              "<Figure size 432x288 with 1 Axes>"
            ]
          },
          "metadata": {
            "tags": [],
            "needs_background": "light"
          }
        }
      ]
    },
    {
      "cell_type": "code",
      "metadata": {
        "id": "qCIkkfemIy4R",
        "colab": {
          "base_uri": "https://localhost:8080/",
          "height": 447
        },
        "outputId": "7ec84727-b78c-48ed-9557-de841acb3f08"
      },
      "source": [
        "#'relations' column relation with asd cases \n",
        "autism_train.groupby(['relation','Class_ASD'])['Class_ASD'].count().sort_values(ascending=False).head(20).plot(kind=\"bar\",stacked=False)"
      ],
      "execution_count": null,
      "outputs": [
        {
          "output_type": "execute_result",
          "data": {
            "text/plain": [
              "<matplotlib.axes._subplots.AxesSubplot at 0x7f7d786b1d50>"
            ]
          },
          "metadata": {
            "tags": []
          },
          "execution_count": 15
        },
        {
          "output_type": "display_data",
          "data": {
            "image/png": "[encoded data removed]",
            "text/plain": [
              "<Figure size 432x288 with 1 Axes>"
            ]
          },
          "metadata": {
            "tags": [],
            "needs_background": "light"
          }
        }
      ]
    },
    {
      "cell_type": "code",
      "metadata": {
        "colab": {
          "base_uri": "https://localhost:8080/",
          "height": 367
        },
        "id": "Rx9tTai8RFqt",
        "outputId": "a0425123-3f20-4ea7-b533-db41f65d3ab9"
      },
      "source": [
        "#autism variable\n",
        "plt.figure(figsize=(5,5))\n",
        "sns.countplot(autism_train['autism'])\n",
        "plt.xlabel('autism')\n",
        "plt.ylabel('counts')\n",
        "plt.title('counts of autism')"
      ],
      "execution_count": null,
      "outputs": [
        {
          "output_type": "execute_result",
          "data": {
            "text/plain": [
              "Text(0.5, 1.0, 'counts of autism')"
            ]
          },
          "metadata": {
            "tags": []
          },
          "execution_count": 24
        },
        {
          "output_type": "display_data",
          "data": {
            "image/png": "[encoded data removed]",
            "text/plain": [
              "<Figure size 360x360 with 1 Axes>"
            ]
          },
          "metadata": {
            "tags": [],
            "needs_background": "light"
          }
        }
      ]
    },
    {
      "cell_type": "code",
      "metadata": {
        "colab": {
          "base_uri": "https://localhost:8080/",
          "height": 142
        },
        "id": "EMhNXMp8I2Du",
        "outputId": "97c0011c-aad3-4b19-b1ca-e79bee574a29"
      },
      "source": [
        "#relation of class_ASD with classical autism \n",
        "pd.crosstab(autism_train['autism'],autism_train['Class_ASD'])"
      ],
      "execution_count": null,
      "outputs": [
        {
          "output_type": "execute_result",
          "data": {
            "text/html": [
              "<div>\n",
              "<style scoped>\n",
              "    .dataframe tbody tr th:only-of-type {\n",
              "        vertical-align: middle;\n",
              "    }\n",
              "\n",
              "    .dataframe tbody tr th {\n",
              "        vertical-align: top;\n",
              "    }\n",
              "\n",
              "    .dataframe thead th {\n",
              "        text-align: right;\n",
              "    }\n",
              "</style>\n",
              "<table border=\"1\" class=\"dataframe\">\n",
              "  <thead>\n",
              "    <tr style=\"text-align: right;\">\n",
              "      <th>Class_ASD</th>\n",
              "      <th>NO</th>\n",
              "      <th>YES</th>\n",
              "    </tr>\n",
              "    <tr>\n",
              "      <th>autism</th>\n",
              "      <th></th>\n",
              "      <th></th>\n",
              "    </tr>\n",
              "  </thead>\n",
              "  <tbody>\n",
              "    <tr>\n",
              "      <th>no</th>\n",
              "      <td>173</td>\n",
              "      <td>146</td>\n",
              "    </tr>\n",
              "    <tr>\n",
              "      <th>yes</th>\n",
              "      <td>16</td>\n",
              "      <td>43</td>\n",
              "    </tr>\n",
              "  </tbody>\n",
              "</table>\n",
              "</div>"
            ],
            "text/plain": [
              "Class_ASD   NO  YES\n",
              "autism             \n",
              "no         173  146\n",
              "yes         16   43"
            ]
          },
          "metadata": {
            "tags": []
          },
          "execution_count": 25
        }
      ]
    },
    {
      "cell_type": "code",
      "metadata": {
        "colab": {
          "base_uri": "https://localhost:8080/",
          "height": 412
        },
        "id": "ugF2wFWnD9Us",
        "outputId": "77cc60c8-038b-4135-ae2e-ca55f1161359"
      },
      "source": [
        "#relation of class_ASD with classical autism\n",
        "pd.crosstab(autism_train['autism'],autism_train['Class_ASD']).plot(kind=\"bar\",stacked=True)"
      ],
      "execution_count": null,
      "outputs": [
        {
          "output_type": "execute_result",
          "data": {
            "text/plain": [
              "<matplotlib.axes._subplots.AxesSubplot at 0x7f7d49fb0cd0>"
            ]
          },
          "metadata": {
            "tags": []
          },
          "execution_count": 26
        },
        {
          "output_type": "display_data",
          "data": {
            "image/png": "[encoded data removed]",
            "text/plain": [
              "<Figure size 720x432 with 1 Axes>"
            ]
          },
          "metadata": {
            "tags": [],
            "needs_background": "light"
          }
        }
      ]
    },
    {
      "cell_type": "code",
      "metadata": {
        "colab": {
          "base_uri": "https://localhost:8080/",
          "height": 405
        },
        "id": "WGqSDpHiIviT",
        "outputId": "606d1f49-5ae2-4a18-ecd7-0e98fd287d3b"
      },
      "source": [
        "#relation of class_ASD with gender\n",
        "pd.crosstab(autism_train['gender'],autism_train['Class_ASD']).plot(kind=\"bar\",stacked=True)"
      ],
      "execution_count": null,
      "outputs": [
        {
          "output_type": "execute_result",
          "data": {
            "text/plain": [
              "<matplotlib.axes._subplots.AxesSubplot at 0x7f7d49fce3d0>"
            ]
          },
          "metadata": {
            "tags": []
          },
          "execution_count": 27
        },
        {
          "output_type": "display_data",
          "data": {
            "image/png": "[encoded data removed]",
            "text/plain": [
              "<Figure size 720x432 with 1 Axes>"
            ]
          },
          "metadata": {
            "tags": [],
            "needs_background": "light"
          }
        }
      ]
    },
    {
      "cell_type": "code",
      "metadata": {
        "colab": {
          "base_uri": "https://localhost:8080/",
          "height": 412
        },
        "id": "loDRq9yMKAN3",
        "outputId": "0bd44a77-defb-4fe9-a44b-cc9e494c7125"
      },
      "source": [
        "#relation of class_ASD with jaundice \n",
        "pd.crosstab(autism_train['jaundice'],autism_train['Class_ASD']).plot(kind=\"bar\",stacked=True)"
      ],
      "execution_count": null,
      "outputs": [
        {
          "output_type": "execute_result",
          "data": {
            "text/plain": [
              "<matplotlib.axes._subplots.AxesSubplot at 0x7f7d49e46f50>"
            ]
          },
          "metadata": {
            "tags": []
          },
          "execution_count": 28
        },
        {
          "output_type": "display_data",
          "data": {
            "image/png": "[encoded data removed]",
            "text/plain": [
              "<Figure size 720x432 with 1 Axes>"
            ]
          },
          "metadata": {
            "tags": [],
            "needs_background": "light"
          }
        }
      ]
    },
    {
      "cell_type": "code",
      "metadata": {
        "colab": {
          "base_uri": "https://localhost:8080/",
          "height": 413
        },
        "id": "RBPd5Hi7KAw2",
        "outputId": "4fe78a36-2d32-4994-f186-e0b99f6ffccd"
      },
      "source": [
        "#relation of class_ASD with 'used app before' column \n",
        "pd.crosstab(autism_train['used_app_before'],autism_train['Class_ASD']).plot(kind=\"bar\",stacked=True)"
      ],
      "execution_count": null,
      "outputs": [
        {
          "output_type": "execute_result",
          "data": {
            "text/plain": [
              "<matplotlib.axes._subplots.AxesSubplot at 0x7f7d49ddad50>"
            ]
          },
          "metadata": {
            "tags": []
          },
          "execution_count": 29
        },
        {
          "output_type": "display_data",
          "data": {
            "image/png": "[encoded data removed]",
            "text/plain": [
              "<Figure size 720x432 with 1 Axes>"
            ]
          },
          "metadata": {
            "tags": [],
            "needs_background": "light"
          }
        }
      ]
    },
    {
      "cell_type": "markdown",
      "metadata": {
        "id": "Qr77p4rYg0it"
      },
      "source": [
        "*Categorical Features Encoding*"
      ]
    },
    {
      "cell_type": "code",
      "metadata": {
        "colab": {
          "base_uri": "https://localhost:8080/"
        },
        "id": "A9ZqM1Oqgzrr",
        "outputId": "ebc196cf-194b-41bd-a290-199c4099db60"
      },
      "source": [
        "cols=['jaundice','autism','Class_ASD','used_app_before']\n",
        "cat_var=[var for var in autism_train.columns if autism_train[var].dtypes=='O' if var not in cols]\n",
        "cat_var"
      ],
      "execution_count": null,
      "outputs": [
        {
          "output_type": "execute_result",
          "data": {
            "text/plain": [
              "['gender', 'ethnicity', 'country_of_res', 'relation']"
            ]
          },
          "metadata": {
            "tags": []
          },
          "execution_count": 18
        }
      ]
    },
    {
      "cell_type": "code",
      "metadata": {
        "colab": {
          "base_uri": "https://localhost:8080/"
        },
        "id": "o2y_qYah6Gx4",
        "outputId": "4360e4a7-9c7f-4783-bdc4-f4e900dd8cd3"
      },
      "source": [
        "autism_train['country_of_res'].value_counts().sort_values(ascending=False)"
      ],
      "execution_count": null,
      "outputs": [
        {
          "output_type": "execute_result",
          "data": {
            "text/plain": [
              "'United States'           113\n",
              "'United Arab Emirates'     82\n",
              "India                      81\n",
              "'New Zealand'              80\n",
              "'United Kingdom'           77\n",
              "Jordan                     47\n",
              "Australia                  27\n",
              "Canada                     15\n",
              "'Sri Lanka'                14\n",
              "Afghanistan                13\n",
              "France                     11\n",
              "Netherlands                10\n",
              "Brazil                      9\n",
              "Mexico                      8\n",
              "Iran                        7\n",
              "Russia                      7\n",
              "Ireland                     5\n",
              "Malaysia                    5\n",
              "Italy                       5\n",
              "'Viet Nam'                  5\n",
              "Austria                     4\n",
              "'Saudi Arabia'              4\n",
              "Philippines                 4\n",
              "Germany                     4\n",
              "Bangladesh                  3\n",
              "Romania                     3\n",
              "Belgium                     3\n",
              "Spain                       3\n",
              "Egypt                       3\n",
              "Kazakhstan                  3\n",
              "Pakistan                    3\n",
              "Bahamas                     2\n",
              "Ethiopia                    2\n",
              "AmericanSamoa               2\n",
              "Argentina                   2\n",
              "'South Africa'              2\n",
              "Iceland                     2\n",
              "Sweden                      2\n",
              "Armenia                     2\n",
              "Ukraine                     2\n",
              "Burundi                     1\n",
              "Finland                     1\n",
              "Serbia                      1\n",
              "Lebanon                     1\n",
              "Iraq                        1\n",
              "'Hong Kong'                 1\n",
              "Bolivia                     1\n",
              "Cyprus                      1\n",
              "Nepal                       1\n",
              "Ecuador                     1\n",
              "Chile                       1\n",
              "'Sierra Leone'              1\n",
              "Niger                       1\n",
              "Angola                      1\n",
              "Indonesia                   1\n",
              "Nicaragua                   1\n",
              "Turkey                      1\n",
              "Azerbaijan                  1\n",
              "'Costa Rica'                1\n",
              "Oman                        1\n",
              "'Czech Republic'            1\n",
              "Portugal                    1\n",
              "Uruguay                     1\n",
              "Tonga                       1\n",
              "China                       1\n",
              "Japan                       1\n",
              "Aruba                       1\n",
              "Name: country_of_res, dtype: int64"
            ]
          },
          "metadata": {
            "tags": []
          },
          "execution_count": 13
        }
      ]
    },
    {
      "cell_type": "code",
      "metadata": {
        "id": "nL9lhHxxhz9y"
      },
      "source": [
        "#one hot top 15 encoding\n",
        "def encode(df,column):\n",
        "         top10=df[column].value_counts().sort_values(ascending=False).head(15).index\n",
        "         for categories in top10:\n",
        "            df[categories]=np.where(df[column]==categories,1,0)"
      ],
      "execution_count": null,
      "outputs": []
    },
    {
      "cell_type": "code",
      "metadata": {
        "id": "2tJyfHMIiNlz"
      },
      "source": [
        "for i in cat_var:\n",
        "  encode(autism_train,i)"
      ],
      "execution_count": null,
      "outputs": []
    },
    {
      "cell_type": "code",
      "metadata": {
        "colab": {
          "base_uri": "https://localhost:8080/",
          "height": 309
        },
        "id": "EPM5oeKUiTtD",
        "outputId": "4d6e58d1-79d8-487c-8a14-d3799273f93a"
      },
      "source": [
        "autism_train.head()"
      ],
      "execution_count": null,
      "outputs": [
        {
          "output_type": "execute_result",
          "data": {
            "text/html": [
              "<div>\n",
              "<style scoped>\n",
              "    .dataframe tbody tr th:only-of-type {\n",
              "        vertical-align: middle;\n",
              "    }\n",
              "\n",
              "    .dataframe tbody tr th {\n",
              "        vertical-align: top;\n",
              "    }\n",
              "\n",
              "    .dataframe thead th {\n",
              "        text-align: right;\n",
              "    }\n",
              "</style>\n",
              "<table border=\"1\" class=\"dataframe\">\n",
              "  <thead>\n",
              "    <tr style=\"text-align: right;\">\n",
              "      <th></th>\n",
              "      <th>A1_Score</th>\n",
              "      <th>A2_Score</th>\n",
              "      <th>A3_Score</th>\n",
              "      <th>A4_Score</th>\n",
              "      <th>A5_Score</th>\n",
              "      <th>A6_Score</th>\n",
              "      <th>A7_Score</th>\n",
              "      <th>A8_Score</th>\n",
              "      <th>A9_Score</th>\n",
              "      <th>A10_Score</th>\n",
              "      <th>age</th>\n",
              "      <th>gender</th>\n",
              "      <th>ethnicity</th>\n",
              "      <th>jaundice</th>\n",
              "      <th>autism</th>\n",
              "      <th>country_of_res</th>\n",
              "      <th>used_app_before</th>\n",
              "      <th>relation</th>\n",
              "      <th>Class_ASD</th>\n",
              "      <th>f</th>\n",
              "      <th>m</th>\n",
              "      <th>White-European</th>\n",
              "      <th>Asian</th>\n",
              "      <th>'Middle Eastern '</th>\n",
              "      <th>Black</th>\n",
              "      <th>Others</th>\n",
              "      <th>Latino</th>\n",
              "      <th>'South Asian'</th>\n",
              "      <th>Hispanic</th>\n",
              "      <th>Turkish</th>\n",
              "      <th>Pasifika</th>\n",
              "      <th>others</th>\n",
              "      <th>'United States'</th>\n",
              "      <th>'United Kingdom'</th>\n",
              "      <th>'New Zealand'</th>\n",
              "      <th>India</th>\n",
              "      <th>'United Arab Emirates'</th>\n",
              "      <th>Jordan</th>\n",
              "      <th>Australia</th>\n",
              "      <th>Canada</th>\n",
              "      <th>France</th>\n",
              "      <th>Afghanistan</th>\n",
              "      <th>Brazil</th>\n",
              "      <th>Netherlands</th>\n",
              "      <th>Malaysia</th>\n",
              "      <th>Iran</th>\n",
              "      <th>Mexico</th>\n",
              "      <th>Self</th>\n",
              "      <th>Parent</th>\n",
              "      <th>Relative</th>\n",
              "      <th>'Health care professional'</th>\n",
              "    </tr>\n",
              "  </thead>\n",
              "  <tbody>\n",
              "    <tr>\n",
              "      <th>2</th>\n",
              "      <td>1</td>\n",
              "      <td>1</td>\n",
              "      <td>0</td>\n",
              "      <td>1</td>\n",
              "      <td>1</td>\n",
              "      <td>0</td>\n",
              "      <td>1</td>\n",
              "      <td>1</td>\n",
              "      <td>1</td>\n",
              "      <td>1</td>\n",
              "      <td>27</td>\n",
              "      <td>m</td>\n",
              "      <td>Latino</td>\n",
              "      <td>yes</td>\n",
              "      <td>yes</td>\n",
              "      <td>Spain</td>\n",
              "      <td>no</td>\n",
              "      <td>Parent</td>\n",
              "      <td>YES</td>\n",
              "      <td>0</td>\n",
              "      <td>1</td>\n",
              "      <td>0</td>\n",
              "      <td>0</td>\n",
              "      <td>0</td>\n",
              "      <td>0</td>\n",
              "      <td>0</td>\n",
              "      <td>1</td>\n",
              "      <td>0</td>\n",
              "      <td>0</td>\n",
              "      <td>0</td>\n",
              "      <td>0</td>\n",
              "      <td>0</td>\n",
              "      <td>0</td>\n",
              "      <td>0</td>\n",
              "      <td>0</td>\n",
              "      <td>0</td>\n",
              "      <td>0</td>\n",
              "      <td>0</td>\n",
              "      <td>0</td>\n",
              "      <td>0</td>\n",
              "      <td>0</td>\n",
              "      <td>0</td>\n",
              "      <td>0</td>\n",
              "      <td>0</td>\n",
              "      <td>0</td>\n",
              "      <td>0</td>\n",
              "      <td>0</td>\n",
              "      <td>0</td>\n",
              "      <td>1</td>\n",
              "      <td>0</td>\n",
              "      <td>0</td>\n",
              "    </tr>\n",
              "    <tr>\n",
              "      <th>5</th>\n",
              "      <td>1</td>\n",
              "      <td>1</td>\n",
              "      <td>1</td>\n",
              "      <td>1</td>\n",
              "      <td>1</td>\n",
              "      <td>0</td>\n",
              "      <td>1</td>\n",
              "      <td>1</td>\n",
              "      <td>1</td>\n",
              "      <td>1</td>\n",
              "      <td>36</td>\n",
              "      <td>m</td>\n",
              "      <td>Others</td>\n",
              "      <td>yes</td>\n",
              "      <td>no</td>\n",
              "      <td>'United States'</td>\n",
              "      <td>no</td>\n",
              "      <td>Self</td>\n",
              "      <td>YES</td>\n",
              "      <td>0</td>\n",
              "      <td>1</td>\n",
              "      <td>0</td>\n",
              "      <td>0</td>\n",
              "      <td>0</td>\n",
              "      <td>0</td>\n",
              "      <td>0</td>\n",
              "      <td>0</td>\n",
              "      <td>0</td>\n",
              "      <td>0</td>\n",
              "      <td>0</td>\n",
              "      <td>0</td>\n",
              "      <td>0</td>\n",
              "      <td>1</td>\n",
              "      <td>0</td>\n",
              "      <td>0</td>\n",
              "      <td>0</td>\n",
              "      <td>0</td>\n",
              "      <td>0</td>\n",
              "      <td>0</td>\n",
              "      <td>0</td>\n",
              "      <td>0</td>\n",
              "      <td>0</td>\n",
              "      <td>0</td>\n",
              "      <td>0</td>\n",
              "      <td>0</td>\n",
              "      <td>0</td>\n",
              "      <td>0</td>\n",
              "      <td>1</td>\n",
              "      <td>0</td>\n",
              "      <td>0</td>\n",
              "      <td>0</td>\n",
              "    </tr>\n",
              "    <tr>\n",
              "      <th>8</th>\n",
              "      <td>1</td>\n",
              "      <td>1</td>\n",
              "      <td>1</td>\n",
              "      <td>1</td>\n",
              "      <td>0</td>\n",
              "      <td>1</td>\n",
              "      <td>1</td>\n",
              "      <td>1</td>\n",
              "      <td>1</td>\n",
              "      <td>0</td>\n",
              "      <td>17</td>\n",
              "      <td>m</td>\n",
              "      <td>Asian</td>\n",
              "      <td>yes</td>\n",
              "      <td>yes</td>\n",
              "      <td>Bahamas</td>\n",
              "      <td>no</td>\n",
              "      <td>'Health care professional'</td>\n",
              "      <td>YES</td>\n",
              "      <td>0</td>\n",
              "      <td>1</td>\n",
              "      <td>0</td>\n",
              "      <td>1</td>\n",
              "      <td>0</td>\n",
              "      <td>0</td>\n",
              "      <td>0</td>\n",
              "      <td>0</td>\n",
              "      <td>0</td>\n",
              "      <td>0</td>\n",
              "      <td>0</td>\n",
              "      <td>0</td>\n",
              "      <td>0</td>\n",
              "      <td>0</td>\n",
              "      <td>0</td>\n",
              "      <td>0</td>\n",
              "      <td>0</td>\n",
              "      <td>0</td>\n",
              "      <td>0</td>\n",
              "      <td>0</td>\n",
              "      <td>0</td>\n",
              "      <td>0</td>\n",
              "      <td>0</td>\n",
              "      <td>0</td>\n",
              "      <td>0</td>\n",
              "      <td>0</td>\n",
              "      <td>0</td>\n",
              "      <td>0</td>\n",
              "      <td>0</td>\n",
              "      <td>0</td>\n",
              "      <td>0</td>\n",
              "      <td>1</td>\n",
              "    </tr>\n",
              "    <tr>\n",
              "      <th>9</th>\n",
              "      <td>1</td>\n",
              "      <td>1</td>\n",
              "      <td>1</td>\n",
              "      <td>1</td>\n",
              "      <td>1</td>\n",
              "      <td>1</td>\n",
              "      <td>1</td>\n",
              "      <td>1</td>\n",
              "      <td>1</td>\n",
              "      <td>1</td>\n",
              "      <td>33</td>\n",
              "      <td>m</td>\n",
              "      <td>White-European</td>\n",
              "      <td>no</td>\n",
              "      <td>no</td>\n",
              "      <td>'United States'</td>\n",
              "      <td>no</td>\n",
              "      <td>Relative</td>\n",
              "      <td>YES</td>\n",
              "      <td>0</td>\n",
              "      <td>1</td>\n",
              "      <td>1</td>\n",
              "      <td>0</td>\n",
              "      <td>0</td>\n",
              "      <td>0</td>\n",
              "      <td>0</td>\n",
              "      <td>0</td>\n",
              "      <td>0</td>\n",
              "      <td>0</td>\n",
              "      <td>0</td>\n",
              "      <td>0</td>\n",
              "      <td>0</td>\n",
              "      <td>1</td>\n",
              "      <td>0</td>\n",
              "      <td>0</td>\n",
              "      <td>0</td>\n",
              "      <td>0</td>\n",
              "      <td>0</td>\n",
              "      <td>0</td>\n",
              "      <td>0</td>\n",
              "      <td>0</td>\n",
              "      <td>0</td>\n",
              "      <td>0</td>\n",
              "      <td>0</td>\n",
              "      <td>0</td>\n",
              "      <td>0</td>\n",
              "      <td>0</td>\n",
              "      <td>0</td>\n",
              "      <td>0</td>\n",
              "      <td>1</td>\n",
              "      <td>0</td>\n",
              "    </tr>\n",
              "    <tr>\n",
              "      <th>15</th>\n",
              "      <td>1</td>\n",
              "      <td>0</td>\n",
              "      <td>0</td>\n",
              "      <td>1</td>\n",
              "      <td>1</td>\n",
              "      <td>1</td>\n",
              "      <td>1</td>\n",
              "      <td>1</td>\n",
              "      <td>0</td>\n",
              "      <td>1</td>\n",
              "      <td>37</td>\n",
              "      <td>f</td>\n",
              "      <td>White-European</td>\n",
              "      <td>no</td>\n",
              "      <td>yes</td>\n",
              "      <td>'United States'</td>\n",
              "      <td>no</td>\n",
              "      <td>Self</td>\n",
              "      <td>YES</td>\n",
              "      <td>1</td>\n",
              "      <td>0</td>\n",
              "      <td>1</td>\n",
              "      <td>0</td>\n",
              "      <td>0</td>\n",
              "      <td>0</td>\n",
              "      <td>0</td>\n",
              "      <td>0</td>\n",
              "      <td>0</td>\n",
              "      <td>0</td>\n",
              "      <td>0</td>\n",
              "      <td>0</td>\n",
              "      <td>0</td>\n",
              "      <td>1</td>\n",
              "      <td>0</td>\n",
              "      <td>0</td>\n",
              "      <td>0</td>\n",
              "      <td>0</td>\n",
              "      <td>0</td>\n",
              "      <td>0</td>\n",
              "      <td>0</td>\n",
              "      <td>0</td>\n",
              "      <td>0</td>\n",
              "      <td>0</td>\n",
              "      <td>0</td>\n",
              "      <td>0</td>\n",
              "      <td>0</td>\n",
              "      <td>0</td>\n",
              "      <td>1</td>\n",
              "      <td>0</td>\n",
              "      <td>0</td>\n",
              "      <td>0</td>\n",
              "    </tr>\n",
              "  </tbody>\n",
              "</table>\n",
              "</div>"
            ],
            "text/plain": [
              "    A1_Score  A2_Score  A3_Score  A4_Score  A5_Score  A6_Score  A7_Score  \\\n",
              "2          1         1         0         1         1         0         1   \n",
              "5          1         1         1         1         1         0         1   \n",
              "8          1         1         1         1         0         1         1   \n",
              "9          1         1         1         1         1         1         1   \n",
              "15         1         0         0         1         1         1         1   \n",
              "\n",
              "    A8_Score  A9_Score  A10_Score  age gender       ethnicity jaundice autism  \\\n",
              "2          1         1          1   27      m          Latino      yes    yes   \n",
              "5          1         1          1   36      m          Others      yes     no   \n",
              "8          1         1          0   17      m           Asian      yes    yes   \n",
              "9          1         1          1   33      m  White-European       no     no   \n",
              "15         1         0          1   37      f  White-European       no    yes   \n",
              "\n",
              "     country_of_res used_app_before                    relation Class_ASD  f  \\\n",
              "2             Spain              no                      Parent       YES  0   \n",
              "5   'United States'              no                        Self       YES  0   \n",
              "8           Bahamas              no  'Health care professional'       YES  0   \n",
              "9   'United States'              no                    Relative       YES  0   \n",
              "15  'United States'              no                        Self       YES  1   \n",
              "\n",
              "    m  White-European  Asian  'Middle Eastern '  Black  Others  Latino  \\\n",
              "2   1               0      0                  0      0       0       1   \n",
              "5   1               0      0                  0      0       0       0   \n",
              "8   1               0      1                  0      0       0       0   \n",
              "9   1               1      0                  0      0       0       0   \n",
              "15  0               1      0                  0      0       0       0   \n",
              "\n",
              "    'South Asian'  Hispanic  Turkish  Pasifika  others  'United States'  \\\n",
              "2               0         0        0         0       0                0   \n",
              "5               0         0        0         0       0                1   \n",
              "8               0         0        0         0       0                0   \n",
              "9               0         0        0         0       0                1   \n",
              "15              0         0        0         0       0                1   \n",
              "\n",
              "    'United Kingdom'  'New Zealand'  India  'United Arab Emirates'  Jordan  \\\n",
              "2                  0              0      0                       0       0   \n",
              "5                  0              0      0                       0       0   \n",
              "8                  0              0      0                       0       0   \n",
              "9                  0              0      0                       0       0   \n",
              "15                 0              0      0                       0       0   \n",
              "\n",
              "    Australia  Canada  France  Afghanistan  Brazil  Netherlands  Malaysia  \\\n",
              "2           0       0       0            0       0            0         0   \n",
              "5           0       0       0            0       0            0         0   \n",
              "8           0       0       0            0       0            0         0   \n",
              "9           0       0       0            0       0            0         0   \n",
              "15          0       0       0            0       0            0         0   \n",
              "\n",
              "    Iran  Mexico  Self  Parent  Relative  'Health care professional'  \n",
              "2      0       0     0       1         0                           0  \n",
              "5      0       0     1       0         0                           0  \n",
              "8      0       0     0       0         0                           1  \n",
              "9      0       0     0       0         1                           0  \n",
              "15     0       0     1       0         0                           0  "
            ]
          },
          "metadata": {
            "tags": []
          },
          "execution_count": 26
        }
      ]
    },
    {
      "cell_type": "code",
      "metadata": {
        "id": "iabiOYQQlGNs"
      },
      "source": [
        "autism_train=autism_train.drop(cat_var,axis=1)"
      ],
      "execution_count": null,
      "outputs": []
    },
    {
      "cell_type": "code",
      "metadata": {
        "id": "0rERFU4llNkR"
      },
      "source": [
        "autism_train['jaundice']=autism_train['jaundice'].replace({'no':0,'yes':1})\n",
        "autism_train['autism']=autism_train['autism'].replace({'no':0,'yes':1})\n",
        "autism_train['used_app_before']=autism_train['used_app_before'].replace({'no':0,'yes':1})"
      ],
      "execution_count": null,
      "outputs": []
    },
    {
      "cell_type": "code",
      "metadata": {
        "id": "0u7WGa0Q86S8"
      },
      "source": [
        "y_train=autism_train.pop('Class_ASD')"
      ],
      "execution_count": null,
      "outputs": []
    },
    {
      "cell_type": "code",
      "metadata": {
        "id": "sEBSS9xdl1NE"
      },
      "source": [
        "from sklearn.preprocessing import LabelEncoder\n",
        "lb=LabelEncoder()\n",
        "y_train=lb.fit_transform(y_train)"
      ],
      "execution_count": null,
      "outputs": []
    },
    {
      "cell_type": "code",
      "metadata": {
        "id": "AsxMadMU-OxA"
      },
      "source": [
        "y_train_Df=pd.DataFrame(y_train)"
      ],
      "execution_count": null,
      "outputs": []
    },
    {
      "cell_type": "markdown",
      "metadata": {
        "id": "fmFLGgbZY1NW"
      },
      "source": [
        " **Feature Selection (ONLY USED MUTUAL INFO, REST FOR VISUALISATION)**"
      ]
    },
    {
      "cell_type": "markdown",
      "metadata": {
        "id": "xbT1NdkPaE0R"
      },
      "source": [
        "*PCA* (dont use for code just for visualisation)\n"
      ]
    },
    {
      "cell_type": "code",
      "metadata": {
        "id": "6fxp_on8Znc1"
      },
      "source": [
        "from sklearn.preprocessing import StandardScaler\n",
        "sc=StandardScaler()\n",
        "scalerstd=sc.fit_transform(autism_train)"
      ],
      "execution_count": null,
      "outputs": []
    },
    {
      "cell_type": "code",
      "metadata": {
        "colab": {
          "base_uri": "https://localhost:8080/",
          "height": 296
        },
        "id": "pGPz3sdeaNLW",
        "outputId": "8c3abe89-6467-42fd-f7d3-44ea6569be2c"
      },
      "source": [
        "from sklearn.decomposition import PCA\n",
        "pca=PCA().fit(scalerstd)\n",
        "plt.plot(np.cumsum(pca.explained_variance_ratio_))\n",
        "\n",
        "plt.xlabel('Number of components')\n",
        "plt.ylabel('Cumulative explained variance')"
      ],
      "execution_count": null,
      "outputs": [
        {
          "output_type": "execute_result",
          "data": {
            "text/plain": [
              "Text(0, 0.5, 'Cumulative explained variance')"
            ]
          },
          "metadata": {
            "tags": []
          },
          "execution_count": 24
        },
        {
          "output_type": "display_data",
          "data": {
            "image/png": "[encoded data removed]",
            "text/plain": [
              "<Figure size 432x288 with 1 Axes>"
            ]
          },
          "metadata": {
            "tags": [],
            "needs_background": "light"
          }
        }
      ]
    },
    {
      "cell_type": "code",
      "metadata": {
        "colab": {
          "base_uri": "https://localhost:8080/"
        },
        "id": "_16z-eAJaY0O",
        "outputId": "93d17710-ad75-444e-bb32-08b611d81ae6"
      },
      "source": [
        "np.cumsum(pca.explained_variance_ratio_)"
      ],
      "execution_count": null,
      "outputs": [
        {
          "output_type": "execute_result",
          "data": {
            "text/plain": [
              "array([0.1074645 , 0.16416563, 0.21966256, 0.26762015, 0.3118662 ,\n",
              "       0.34752495, 0.38127382, 0.41307206, 0.44460885, 0.47499901,\n",
              "       0.50478076, 0.53402063, 0.56248848, 0.58945628, 0.61584144,\n",
              "       0.64113508, 0.66541461, 0.68927139, 0.71246983, 0.73503563,\n",
              "       0.75648776, 0.77783616, 0.7983357 , 0.81846195, 0.83766196,\n",
              "       0.85671142, 0.87461235, 0.89148171, 0.90826853, 0.92417013,\n",
              "       0.93889032, 0.95190005, 0.96471607, 0.97627534, 0.98698945,\n",
              "       0.99397942, 0.9985752 , 1.        , 1.        , 1.        ,\n",
              "       1.        ])"
            ]
          },
          "metadata": {
            "tags": []
          },
          "execution_count": 25
        }
      ]
    },
    {
      "cell_type": "markdown",
      "metadata": {
        "id": "GiDdG2BH70RR"
      },
      "source": [
        "*Pearson correlation* (not for code only visualisation)"
      ]
    },
    {
      "cell_type": "code",
      "metadata": {
        "colab": {
          "base_uri": "https://localhost:8080/",
          "height": 379
        },
        "id": "5pQbuxiq73s0",
        "outputId": "722e77b5-3954-4f79-ef06-e9959d2d7332"
      },
      "source": [
        "corr1=autism_train.corr()\n",
        "sns.heatmap(corr1,annot=True)   \n",
        "plt.figure(figsize=(15,10))"
      ],
      "execution_count": null,
      "outputs": [
        {
          "output_type": "execute_result",
          "data": {
            "text/plain": [
              "<Figure size 1080x720 with 0 Axes>"
            ]
          },
          "metadata": {
            "tags": []
          },
          "execution_count": 48
        },
        {
          "output_type": "display_data",
          "data": {
            "image/png": "[encoded data removed]",
            "text/plain": [
              "<Figure size 432x288 with 2 Axes>"
            ]
          },
          "metadata": {
            "tags": [],
            "needs_background": "light"
          }
        },
        {
          "output_type": "display_data",
          "data": {
            "text/plain": [
              "<Figure size 1080x720 with 0 Axes>"
            ]
          },
          "metadata": {
            "tags": []
          }
        }
      ]
    },
    {
      "cell_type": "code",
      "metadata": {
        "id": "-x0UF-s1-aeP"
      },
      "source": [
        "\n",
        "autism_train['Class_ASD']=autism_train['Class_ASD'].replace({'NO':0,'YES':1})"
      ],
      "execution_count": null,
      "outputs": []
    },
    {
      "cell_type": "code",
      "metadata": {
        "colab": {
          "base_uri": "https://localhost:8080/"
        },
        "id": "qkpLVArN8kLS",
        "outputId": "f72e1d77-f697-426c-a671-6c852d2bf058"
      },
      "source": [
        "\n",
        "for i in autism_train.columns:\n",
        "     corr2=autism_train['Class_ASD'].corr(autism_train[i])\n",
        "     \n",
        "     print(\"the correlation of target variable with {} is {}\".format(i,corr2))"
      ],
      "execution_count": null,
      "outputs": [
        {
          "output_type": "stream",
          "text": [
            "the correlation of target variable with A1_Score is 0.3168272504715563\n",
            "the correlation of target variable with A2_Score is 0.3603992792021628\n",
            "the correlation of target variable with A3_Score is 0.5074702335617393\n",
            "the correlation of target variable with A4_Score is 0.5874751806435631\n",
            "the correlation of target variable with A5_Score is 0.6014869911280522\n",
            "the correlation of target variable with A6_Score is 0.6221829494245718\n",
            "the correlation of target variable with A7_Score is 0.41270418951146404\n",
            "the correlation of target variable with A8_Score is 0.24880398920055757\n",
            "the correlation of target variable with A9_Score is 0.6780178412413093\n",
            "the correlation of target variable with A10_Score is 0.4526787302125928\n",
            "the correlation of target variable with age is 0.14523987660997575\n",
            "the correlation of target variable with jaundice is 0.09898780050533527\n",
            "the correlation of target variable with autism is 0.1968078499226869\n",
            "the correlation of target variable with used_app_before is 0.01735264020984521\n",
            "the correlation of target variable with m is -0.09523942834879974\n",
            "the correlation of target variable with f is 0.09523942834879974\n",
            "the correlation of target variable with White-European is 0.2433896502247092\n",
            "the correlation of target variable with Asian is -0.17872664062035015\n",
            "the correlation of target variable with 'Middle Eastern ' is -0.18695679020686684\n",
            "the correlation of target variable with Black is 0.08081220356417677\n",
            "the correlation of target variable with Others is 1.336027044393651e-16\n",
            "the correlation of target variable with Latino is 0.0840497722020785\n",
            "the correlation of target variable with 'South Asian' is -0.11206636293610521\n",
            "the correlation of target variable with Hispanic is 0.0367607311046904\n",
            "the correlation of target variable with Pasifika is -0.08466675133346022\n",
            "the correlation of target variable with Turkish is -0.05170876899950211\n",
            "the correlation of target variable with others is -0.05150262026246049\n",
            "the correlation of target variable with 'United States' is 0.24517609437743865\n",
            "the correlation of target variable with 'United Kingdom' is 0.08819211529222538\n",
            "the correlation of target variable with 'New Zealand' is -0.09358059590194104\n",
            "the correlation of target variable with India is -0.20991658564283724\n",
            "the correlation of target variable with 'United Arab Emirates' is -0.23488808780588183\n",
            "the correlation of target variable with Jordan is -0.1659454276564386\n",
            "the correlation of target variable with Australia is 0.08935523027654384\n",
            "the correlation of target variable with Canada is 0.16484511834894636\n",
            "the correlation of target variable with Brazil is 0.017352640209845244\n",
            "the correlation of target variable with 'Sri Lanka' is -0.14704292441876163\n",
            "the correlation of target variable with Netherlands is 0.019622937706955668\n",
            "the correlation of target variable with France is 0.08466675133346031\n",
            "the correlation of target variable with Afghanistan is -0.04233337566673027\n",
            "the correlation of target variable with Italy is 0.06946752669712358\n",
            "the correlation of target variable with Malaysia is 0.06946752669712322\n",
            "the correlation of target variable with Self is -0.016497966750889333\n",
            "the correlation of target variable with Parent is 9.154119346379756e-17\n",
            "the correlation of target variable with Relative is 0.04065578140908717\n",
            "the correlation of target variable with 'Health care professional' is -0.029814239699997212\n",
            "the correlation of target variable with Class_ASD is 1.0\n"
          ],
          "name": "stdout"
        }
      ]
    },
    {
      "cell_type": "markdown",
      "metadata": {
        "id": "EGWGleJvaiok"
      },
      "source": [
        "*Mutual information*"
      ]
    },
    {
      "cell_type": "code",
      "metadata": {
        "colab": {
          "base_uri": "https://localhost:8080/"
        },
        "id": "gtZ9AWh0al7g",
        "outputId": "eb2bf34c-2827-40ec-873b-4f42a1e83c6b"
      },
      "source": [
        "from sklearn.feature_selection import mutual_info_classif\n",
        "mutual_info = mutual_info_classif(autism_train,y_train_Df,random_state=50)\n",
        "mutual_info"
      ],
      "execution_count": null,
      "outputs": [
        {
          "output_type": "execute_result",
          "data": {
            "text/plain": [
              "array([0.10797471, 0.02787595, 0.13179842, 0.16270394, 0.20274277,\n",
              "       0.19486114, 0.04979998, 0.0596751 , 0.22377568, 0.09902768,\n",
              "       0.04515805, 0.        , 0.        , 0.        , 0.04744835,\n",
              "       0.01371699, 0.0093826 , 0.02632957, 0.06525277, 0.        ,\n",
              "       0.01032569, 0.06229117, 0.00338214, 0.        , 0.        ,\n",
              "       0.        , 0.03083409, 0.03985064, 0.03007929, 0.09907689,\n",
              "       0.01299737, 0.        , 0.        , 0.0297134 , 0.        ,\n",
              "       0.02120964, 0.02962166, 0.        , 0.00243101, 0.04261155,\n",
              "       0.00973142, 0.02089516, 0.        , 0.        , 0.01610727])"
            ]
          },
          "metadata": {
            "tags": []
          },
          "execution_count": 27
        }
      ]
    },
    {
      "cell_type": "code",
      "metadata": {
        "id": "xvLbFI8ObQSO"
      },
      "source": [
        "mutual_info = pd.DataFrame(mutual_info,index=autism_train.columns)\n",
        "\n",
        "mutual_info['mutual_info_score']=mutual_info[0]\n",
        "mutual_info=mutual_info.drop(0,axis=1)"
      ],
      "execution_count": null,
      "outputs": []
    },
    {
      "cell_type": "code",
      "metadata": {
        "colab": {
          "base_uri": "https://localhost:8080/",
          "height": 385
        },
        "id": "VVW8LfXwbdHV",
        "outputId": "158ea776-24bd-4b26-e513-ba606ed61339"
      },
      "source": [
        "mutual_info.sort_values(\"mutual_info_score\",ascending=False).head(10).plot(kind=\"bar\")"
      ],
      "execution_count": null,
      "outputs": [
        {
          "output_type": "execute_result",
          "data": {
            "text/plain": [
              "<matplotlib.axes._subplots.AxesSubplot at 0x7f1400e3a790>"
            ]
          },
          "metadata": {
            "tags": []
          },
          "execution_count": 30
        },
        {
          "output_type": "display_data",
          "data": {
            "image/png": "[encoded data removed]",
            "text/plain": [
              "<Figure size 432x288 with 1 Axes>"
            ]
          },
          "metadata": {
            "tags": [],
            "needs_background": "light"
          }
        }
      ]
    },
    {
      "cell_type": "code",
      "metadata": {
        "id": "_ZMwssVQboFH"
      },
      "source": [
        "mutual_info_nil=mutual_info[mutual_info['mutual_info_score']==0]"
      ],
      "execution_count": null,
      "outputs": []
    },
    {
      "cell_type": "code",
      "metadata": {
        "colab": {
          "base_uri": "https://localhost:8080/",
          "height": 452
        },
        "id": "WXb2HeYlbruw",
        "outputId": "0ab8440b-30a0-48e8-8f2f-220e382efee1"
      },
      "source": [
        "mutual_info_nil"
      ],
      "execution_count": null,
      "outputs": [
        {
          "output_type": "execute_result",
          "data": {
            "text/html": [
              "<div>\n",
              "<style scoped>\n",
              "    .dataframe tbody tr th:only-of-type {\n",
              "        vertical-align: middle;\n",
              "    }\n",
              "\n",
              "    .dataframe tbody tr th {\n",
              "        vertical-align: top;\n",
              "    }\n",
              "\n",
              "    .dataframe thead th {\n",
              "        text-align: right;\n",
              "    }\n",
              "</style>\n",
              "<table border=\"1\" class=\"dataframe\">\n",
              "  <thead>\n",
              "    <tr style=\"text-align: right;\">\n",
              "      <th></th>\n",
              "      <th>mutual_info_score</th>\n",
              "    </tr>\n",
              "  </thead>\n",
              "  <tbody>\n",
              "    <tr>\n",
              "      <th>jaundice</th>\n",
              "      <td>0.0</td>\n",
              "    </tr>\n",
              "    <tr>\n",
              "      <th>autism</th>\n",
              "      <td>0.0</td>\n",
              "    </tr>\n",
              "    <tr>\n",
              "      <th>used_app_before</th>\n",
              "      <td>0.0</td>\n",
              "    </tr>\n",
              "    <tr>\n",
              "      <th>Black</th>\n",
              "      <td>0.0</td>\n",
              "    </tr>\n",
              "    <tr>\n",
              "      <th>Hispanic</th>\n",
              "      <td>0.0</td>\n",
              "    </tr>\n",
              "    <tr>\n",
              "      <th>Turkish</th>\n",
              "      <td>0.0</td>\n",
              "    </tr>\n",
              "    <tr>\n",
              "      <th>Pasifika</th>\n",
              "      <td>0.0</td>\n",
              "    </tr>\n",
              "    <tr>\n",
              "      <th>Jordan</th>\n",
              "      <td>0.0</td>\n",
              "    </tr>\n",
              "    <tr>\n",
              "      <th>Australia</th>\n",
              "      <td>0.0</td>\n",
              "    </tr>\n",
              "    <tr>\n",
              "      <th>Brazil</th>\n",
              "      <td>0.0</td>\n",
              "    </tr>\n",
              "    <tr>\n",
              "      <th>France</th>\n",
              "      <td>0.0</td>\n",
              "    </tr>\n",
              "    <tr>\n",
              "      <th>Parent</th>\n",
              "      <td>0.0</td>\n",
              "    </tr>\n",
              "    <tr>\n",
              "      <th>Relative</th>\n",
              "      <td>0.0</td>\n",
              "    </tr>\n",
              "  </tbody>\n",
              "</table>\n",
              "</div>"
            ],
            "text/plain": [
              "                 mutual_info_score\n",
              "jaundice                       0.0\n",
              "autism                         0.0\n",
              "used_app_before                0.0\n",
              "Black                          0.0\n",
              "Hispanic                       0.0\n",
              "Turkish                        0.0\n",
              "Pasifika                       0.0\n",
              "Jordan                         0.0\n",
              "Australia                      0.0\n",
              "Brazil                         0.0\n",
              "France                         0.0\n",
              "Parent                         0.0\n",
              "Relative                       0.0"
            ]
          },
          "metadata": {
            "tags": []
          },
          "execution_count": 32
        }
      ]
    },
    {
      "cell_type": "code",
      "metadata": {
        "id": "rHZPdTufb2lj"
      },
      "source": [
        "cols=[cols for cols in mutual_info_nil.index]\n",
        "autism_train=autism_train.drop(cols,axis=1)"
      ],
      "execution_count": null,
      "outputs": []
    },
    {
      "cell_type": "markdown",
      "metadata": {
        "id": "HjiLzqbvclN1"
      },
      "source": [
        "**Model creation**"
      ]
    },
    {
      "cell_type": "code",
      "metadata": {
        "id": "xNuH7wEVKw61"
      },
      "source": [
        "def model_eval(y_t,y_p):\n",
        "  from sklearn.metrics import classification_report,confusion_matrix,roc_auc_score\n",
        "  classification_rep=classification_report(y_t,y_p)\n",
        "  print(\"CLASSIFICATION REPORT\")\n",
        "  print(classification_rep)\n",
        "  print(\"         Confusion matrix      \")\n",
        "  confusion_mat=confusion_matrix(y_t,y_p)\n",
        "  conf_mat_df=pd.DataFrame(data=confusion_mat,columns=['Predicted:0','Predicted:1'],index=['Actual:0','Actual:1'])\n",
        "  sns.heatmap(conf_mat_df,annot=True,fmt='d',cbar=True,cmap='BrBG')\n",
        "  rocauc=roc_auc_score(y_test,y_pred)\n",
        "  print(\"ROC AUC Score is {}\".format(rocauc))"
      ],
      "execution_count": null,
      "outputs": []
    },
    {
      "cell_type": "code",
      "metadata": {
        "id": "PdjS73QWOLVI"
      },
      "source": [
        "def stratkfold(model):\n",
        "    from sklearn.model_selection import StratifiedKFold,cross_val_score\n",
        "    kfold=StratifiedKFold(n_splits=5,shuffle=True,random_state=100)\n",
        "    cv_score=cross_val_score(model,autism_train,y_train,cv=kfold,scoring='accuracy',n_jobs=-1)\n",
        "    print(\"the cross validation mean is {}\".format(cv_score.mean()))"
      ],
      "execution_count": null,
      "outputs": []
    },
    {
      "cell_type": "markdown",
      "metadata": {
        "id": "Nce0tKTwd2Nr"
      },
      "source": [
        "*Logistic Regression*"
      ]
    },
    {
      "cell_type": "code",
      "metadata": {
        "colab": {
          "base_uri": "https://localhost:8080/"
        },
        "id": "Y88-hpmmcMP2",
        "outputId": "3a992e05-0a59-4bf7-881a-62284847e10c"
      },
      "source": [
        "from sklearn.linear_model import LogisticRegression\n",
        "lr=LogisticRegression(random_state=50)\n",
        "lr.fit(autism_train,y_train)\n",
        "lr.score(autism_train,y_train)"
      ],
      "execution_count": null,
      "outputs": [
        {
          "output_type": "execute_result",
          "data": {
            "text/plain": [
              "1.0"
            ]
          },
          "metadata": {
            "tags": []
          },
          "execution_count": 36
        }
      ]
    },
    {
      "cell_type": "code",
      "metadata": {
        "colab": {
          "base_uri": "https://localhost:8080/"
        },
        "id": "4n8niYbQdCh9",
        "outputId": "ba549494-6aa9-4868-deac-c1fb41e14ade"
      },
      "source": [
        "from sklearn.model_selection import train_test_split\n",
        "x_train,x_test,y_train2,y_test=train_test_split(autism_train,y_train,test_size=0.2,stratify=y_train,shuffle=True,random_state=100)\n",
        "lr.fit(x_train,y_train2)\n",
        "lr.score(x_train,y_train2),lr.score(x_test,y_test)"
      ],
      "execution_count": null,
      "outputs": [
        {
          "output_type": "execute_result",
          "data": {
            "text/plain": [
              "(0.9933774834437086, 0.9736842105263158)"
            ]
          },
          "metadata": {
            "tags": []
          },
          "execution_count": 37
        }
      ]
    },
    {
      "cell_type": "markdown",
      "metadata": {
        "id": "TpImSzovEsmY"
      },
      "source": [
        "*K fold cross validation*"
      ]
    },
    {
      "cell_type": "code",
      "metadata": {
        "colab": {
          "base_uri": "https://localhost:8080/"
        },
        "id": "pfYvfNy9dOJv",
        "outputId": "d4c87961-7e6b-421f-a0ed-aaaa45d12775"
      },
      "source": [
        "stratkfold(lr)"
      ],
      "execution_count": null,
      "outputs": [
        {
          "output_type": "stream",
          "text": [
            "the cross validation mean is 0.9788070175438597\n"
          ],
          "name": "stdout"
        }
      ]
    },
    {
      "cell_type": "code",
      "metadata": {
        "id": "16fCn7ogdhGd"
      },
      "source": [
        "y_pred=lr.predict(x_test)"
      ],
      "execution_count": null,
      "outputs": []
    },
    {
      "cell_type": "code",
      "metadata": {
        "colab": {
          "base_uri": "https://localhost:8080/",
          "height": 469
        },
        "id": "ntwsul25deD1",
        "outputId": "b98a390e-b29d-4a01-c3e2-d28516d68847"
      },
      "source": [
        "#model evaluation\n",
        "model_eval(y_test,y_pred)"
      ],
      "execution_count": null,
      "outputs": [
        {
          "output_type": "stream",
          "text": [
            "CLASSIFICATION REPORT\n",
            "              precision    recall  f1-score   support\n",
            "\n",
            "           0       1.00      0.95      0.97        38\n",
            "           1       0.95      1.00      0.97        38\n",
            "\n",
            "    accuracy                           0.97        76\n",
            "   macro avg       0.97      0.97      0.97        76\n",
            "weighted avg       0.97      0.97      0.97        76\n",
            "\n",
            "         Confusion matrix      \n",
            "ROC AUC Score is 0.9736842105263158\n"
          ],
          "name": "stdout"
        },
        {
          "output_type": "display_data",
          "data": {
            "image/png": "[encoded data removed]",
            "text/plain": [
              "<Figure size 432x288 with 2 Axes>"
            ]
          },
          "metadata": {
            "tags": [],
            "needs_background": "light"
          }
        }
      ]
    },
    {
      "cell_type": "markdown",
      "metadata": {
        "id": "kDI_DJbUd7Y-"
      },
      "source": [
        "*Multinomial Naive Bayes*"
      ]
    },
    {
      "cell_type": "code",
      "metadata": {
        "colab": {
          "base_uri": "https://localhost:8080/"
        },
        "id": "S653-BukdxiY",
        "outputId": "3e37e52e-9190-44f1-e00c-ba87afcbe41f"
      },
      "source": [
        "from sklearn.naive_bayes import MultinomialNB\n",
        "mnb=MultinomialNB()\n",
        "mnb.fit(autism_train,y_train)\n",
        "mnb.score(autism_train,y_train)"
      ],
      "execution_count": null,
      "outputs": [
        {
          "output_type": "execute_result",
          "data": {
            "text/plain": [
              "0.91005291005291"
            ]
          },
          "metadata": {
            "tags": []
          },
          "execution_count": 41
        }
      ]
    },
    {
      "cell_type": "code",
      "metadata": {
        "colab": {
          "base_uri": "https://localhost:8080/"
        },
        "id": "hQH5xtkoeMtE",
        "outputId": "cfa0fd0e-2acf-4cee-bc38-155367cf85db"
      },
      "source": [
        "from sklearn.model_selection import train_test_split\n",
        "x_train,x_test,y_train2,y_test=train_test_split(autism_train,y_train,test_size=0.2,stratify=y_train,shuffle=True,random_state=100)\n",
        "mnb.fit(x_train,y_train2)\n",
        "mnb.score(x_train,y_train2),mnb.score(x_test,y_test)"
      ],
      "execution_count": null,
      "outputs": [
        {
          "output_type": "execute_result",
          "data": {
            "text/plain": [
              "(0.890728476821192, 0.9342105263157895)"
            ]
          },
          "metadata": {
            "tags": []
          },
          "execution_count": 42
        }
      ]
    },
    {
      "cell_type": "markdown",
      "metadata": {
        "id": "5svCNYWYE9CP"
      },
      "source": [
        "*K fold cross validation*"
      ]
    },
    {
      "cell_type": "code",
      "metadata": {
        "colab": {
          "base_uri": "https://localhost:8080/"
        },
        "id": "yG2ryrQXeWx2",
        "outputId": "dee7a5cc-e1e9-487a-dc3c-ad9bb8f43edc"
      },
      "source": [
        "stratkfold(mnb)"
      ],
      "execution_count": null,
      "outputs": [
        {
          "output_type": "stream",
          "text": [
            "the cross validation mean is 0.8994736842105263\n"
          ],
          "name": "stdout"
        }
      ]
    },
    {
      "cell_type": "code",
      "metadata": {
        "id": "wmsN_wwWegUu"
      },
      "source": [
        "y_pred=mnb.predict(x_test)"
      ],
      "execution_count": null,
      "outputs": []
    },
    {
      "cell_type": "code",
      "metadata": {
        "colab": {
          "base_uri": "https://localhost:8080/",
          "height": 469
        },
        "id": "pUTLklXBelI-",
        "outputId": "5bf7c194-577b-4b16-e93d-87c62a262d2b"
      },
      "source": [
        "#model evaluation\n",
        "model_eval(y_test,y_pred)"
      ],
      "execution_count": null,
      "outputs": [
        {
          "output_type": "stream",
          "text": [
            "CLASSIFICATION REPORT\n",
            "              precision    recall  f1-score   support\n",
            "\n",
            "           0       0.97      0.89      0.93        38\n",
            "           1       0.90      0.97      0.94        38\n",
            "\n",
            "    accuracy                           0.93        76\n",
            "   macro avg       0.94      0.93      0.93        76\n",
            "weighted avg       0.94      0.93      0.93        76\n",
            "\n",
            "         Confusion matrix      \n",
            "ROC AUC Score is 0.9342105263157895\n"
          ],
          "name": "stdout"
        },
        {
          "output_type": "display_data",
          "data": {
            "image/png": "[encoded data removed]",
            "text/plain": [
              "<Figure size 432x288 with 2 Axes>"
            ]
          },
          "metadata": {
            "tags": [],
            "needs_background": "light"
          }
        }
      ]
    },
    {
      "cell_type": "markdown",
      "metadata": {
        "id": "SPuneUsUfZBS"
      },
      "source": [
        "*Light GBM*"
      ]
    },
    {
      "cell_type": "code",
      "metadata": {
        "id": "pQ0_mRP3fKS_"
      },
      "source": [
        "import lightgbm\n",
        "from lightgbm import LGBMClassifier\n",
        "lgbm=LGBMClassifier()\n"
      ],
      "execution_count": null,
      "outputs": []
    },
    {
      "cell_type": "code",
      "metadata": {
        "colab": {
          "base_uri": "https://localhost:8080/"
        },
        "id": "WvGHvfNTfc_H",
        "outputId": "d59a8664-918b-4e77-bc12-ec759b2f7e5e"
      },
      "source": [
        "from sklearn.model_selection import train_test_split\n",
        "x_train,x_test,y_train2,y_test=train_test_split(autism_train,y_train,test_size=0.2,stratify=y_train,shuffle=True,random_state=100)\n",
        "lgbm.fit(x_train,y_train2)\n",
        "lgbm.score(x_train,y_train2),lgbm.score(x_test,y_test)"
      ],
      "execution_count": null,
      "outputs": [
        {
          "output_type": "execute_result",
          "data": {
            "text/plain": [
              "(1.0, 0.9605263157894737)"
            ]
          },
          "metadata": {
            "tags": []
          },
          "execution_count": 47
        }
      ]
    },
    {
      "cell_type": "markdown",
      "metadata": {
        "id": "XXm9Ug0uFQ9g"
      },
      "source": [
        "*k fold cross validation*"
      ]
    },
    {
      "cell_type": "code",
      "metadata": {
        "colab": {
          "base_uri": "https://localhost:8080/"
        },
        "id": "oKCC4_OsfsbT",
        "outputId": "26ea3def-0d36-4528-c4c1-ec110de3bb35"
      },
      "source": [
        "stratkfold(lgbm)"
      ],
      "execution_count": null,
      "outputs": [
        {
          "output_type": "stream",
          "text": [
            "the cross validation mean is 0.9681403508771929\n"
          ],
          "name": "stdout"
        }
      ]
    },
    {
      "cell_type": "code",
      "metadata": {
        "id": "6H0ovzcTf4-f"
      },
      "source": [
        "y_pred=lgbm.predict(x_test)"
      ],
      "execution_count": null,
      "outputs": []
    },
    {
      "cell_type": "code",
      "metadata": {
        "colab": {
          "base_uri": "https://localhost:8080/",
          "height": 469
        },
        "id": "sxJAggHSQda-",
        "outputId": "4bb31bfe-71ba-4b6d-a771-41890ffa34ac"
      },
      "source": [
        "model_eval(y_test,y_pred)"
      ],
      "execution_count": null,
      "outputs": [
        {
          "output_type": "stream",
          "text": [
            "CLASSIFICATION REPORT\n",
            "              precision    recall  f1-score   support\n",
            "\n",
            "           0       0.95      0.97      0.96        38\n",
            "           1       0.97      0.95      0.96        38\n",
            "\n",
            "    accuracy                           0.96        76\n",
            "   macro avg       0.96      0.96      0.96        76\n",
            "weighted avg       0.96      0.96      0.96        76\n",
            "\n",
            "         Confusion matrix      \n",
            "ROC AUC Score is 0.9605263157894737\n"
          ],
          "name": "stdout"
        },
        {
          "output_type": "display_data",
          "data": {
            "image/png": "[encoded data removed]",
            "text/plain": [
              "<Figure size 432x288 with 2 Axes>"
            ]
          },
          "metadata": {
            "tags": [],
            "needs_background": "light"
          }
        }
      ]
    },
    {
      "cell_type": "markdown",
      "metadata": {
        "id": "RgxL8ml0gXMK"
      },
      "source": [
        "*Xgboost*"
      ]
    },
    {
      "cell_type": "code",
      "metadata": {
        "id": "zlN7r6yDgWDU"
      },
      "source": [
        "import xgboost\n",
        "from xgboost import XGBClassifier\n",
        "xgb=XGBClassifier()\n"
      ],
      "execution_count": null,
      "outputs": []
    },
    {
      "cell_type": "code",
      "metadata": {
        "colab": {
          "base_uri": "https://localhost:8080/"
        },
        "id": "Ufa8o8iPgbxu",
        "outputId": "ac88b0d5-bc3e-4067-c465-aec7300190e7"
      },
      "source": [
        "from sklearn.model_selection import train_test_split\n",
        "x_train,x_test,y_train2,y_test=train_test_split(autism_train,y_train,test_size=0.2,stratify=y_train,shuffle=True,random_state=100)\n",
        "xgb.fit(x_train,y_train2)\n",
        "xgb.score(x_train,y_train2),xgb.score(x_test,y_test)"
      ],
      "execution_count": null,
      "outputs": [
        {
          "output_type": "execute_result",
          "data": {
            "text/plain": [
              "(1.0, 0.9736842105263158)"
            ]
          },
          "metadata": {
            "tags": []
          },
          "execution_count": 52
        }
      ]
    },
    {
      "cell_type": "code",
      "metadata": {
        "colab": {
          "base_uri": "https://localhost:8080/"
        },
        "id": "RdcBX1f0QtWu",
        "outputId": "b1526618-48d5-493b-e63a-6390bd3e3dd7"
      },
      "source": [
        "#cross val score \n",
        "stratkfold(xgb)"
      ],
      "execution_count": null,
      "outputs": [
        {
          "output_type": "stream",
          "text": [
            "the cross validation mean is 0.9709122807017545\n"
          ],
          "name": "stdout"
        }
      ]
    },
    {
      "cell_type": "code",
      "metadata": {
        "id": "0-d_rgTngsyP"
      },
      "source": [
        "y_pred=xgb.predict(x_test)"
      ],
      "execution_count": null,
      "outputs": []
    },
    {
      "cell_type": "code",
      "metadata": {
        "colab": {
          "base_uri": "https://localhost:8080/",
          "height": 469
        },
        "id": "K0-VRRlpQs_e",
        "outputId": "c7be8914-52f7-4db0-d2b7-18b69a7cb30b"
      },
      "source": [
        "#model evaluation\n",
        "model_eval(y_test,y_pred)"
      ],
      "execution_count": null,
      "outputs": [
        {
          "output_type": "stream",
          "text": [
            "CLASSIFICATION REPORT\n",
            "              precision    recall  f1-score   support\n",
            "\n",
            "           0       0.97      0.97      0.97        38\n",
            "           1       0.97      0.97      0.97        38\n",
            "\n",
            "    accuracy                           0.97        76\n",
            "   macro avg       0.97      0.97      0.97        76\n",
            "weighted avg       0.97      0.97      0.97        76\n",
            "\n",
            "         Confusion matrix      \n",
            "ROC AUC Score is 0.9736842105263158\n"
          ],
          "name": "stdout"
        },
        {
          "output_type": "display_data",
          "data": {
            "image/png": "[encoded data removed]",
            "text/plain": [
              "<Figure size 432x288 with 2 Axes>"
            ]
          },
          "metadata": {
            "tags": [],
            "needs_background": "light"
          }
        }
      ]
    },
    {
      "cell_type": "markdown",
      "metadata": {
        "id": "I2_SRDINDK3W"
      },
      "source": [
        "*SVM*"
      ]
    },
    {
      "cell_type": "code",
      "metadata": {
        "id": "I4qMHCvqDKf5"
      },
      "source": [
        "from sklearn.svm import SVC \n",
        "svc=SVC(kernel='linear')"
      ],
      "execution_count": null,
      "outputs": []
    },
    {
      "cell_type": "code",
      "metadata": {
        "colab": {
          "base_uri": "https://localhost:8080/"
        },
        "id": "BJtQDSnMDhTB",
        "outputId": "0626a1ed-de51-4b00-f91e-cb2a844644da"
      },
      "source": [
        "from sklearn.model_selection import train_test_split\n",
        "x_train,x_test,y_train2,y_test=train_test_split(autism_train,y_train,test_size=0.2,stratify=y_train,shuffle=True,random_state=100)\n",
        "svc.fit(x_train,y_train2)\n",
        "svc.score(x_train,y_train2),svc.score(x_test,y_test)"
      ],
      "execution_count": null,
      "outputs": [
        {
          "output_type": "execute_result",
          "data": {
            "text/plain": [
              "(0.9966887417218543, 0.9868421052631579)"
            ]
          },
          "metadata": {
            "tags": []
          },
          "execution_count": 58
        }
      ]
    },
    {
      "cell_type": "code",
      "metadata": {
        "colab": {
          "base_uri": "https://localhost:8080/"
        },
        "id": "3xcBoShfREDm",
        "outputId": "f4e248b2-9ade-4e7f-e657-e0bf84a67039"
      },
      "source": [
        "#cross validation score \n",
        "stratkfold(svc)"
      ],
      "execution_count": null,
      "outputs": [
        {
          "output_type": "stream",
          "text": [
            "the cross validation mean is 0.994701754385965\n"
          ],
          "name": "stdout"
        }
      ]
    },
    {
      "cell_type": "code",
      "metadata": {
        "id": "WpTv4DsqEVxv"
      },
      "source": [
        "y_pred=svc.predict(x_test)"
      ],
      "execution_count": null,
      "outputs": []
    },
    {
      "cell_type": "code",
      "metadata": {
        "colab": {
          "base_uri": "https://localhost:8080/",
          "height": 469
        },
        "id": "uu6sPFZSRMvc",
        "outputId": "64dd0a6d-da9d-40a7-b13d-464e504a27e3"
      },
      "source": [
        "#model evaluation \n",
        "model_eval(y_test,y_pred)"
      ],
      "execution_count": null,
      "outputs": [
        {
          "output_type": "stream",
          "text": [
            "CLASSIFICATION REPORT\n",
            "              precision    recall  f1-score   support\n",
            "\n",
            "           0       1.00      0.97      0.99        38\n",
            "           1       0.97      1.00      0.99        38\n",
            "\n",
            "    accuracy                           0.99        76\n",
            "   macro avg       0.99      0.99      0.99        76\n",
            "weighted avg       0.99      0.99      0.99        76\n",
            "\n",
            "         Confusion matrix      \n",
            "ROC AUC Score is 0.986842105263158\n"
          ],
          "name": "stdout"
        },
        {
          "output_type": "display_data",
          "data": {
            "image/png": "[encoded data removed]",
            "text/plain": [
              "<Figure size 432x288 with 2 Axes>"
            ]
          },
          "metadata": {
            "tags": [],
            "needs_background": "light"
          }
        }
      ]
    },
    {
      "cell_type": "markdown",
      "metadata": {
        "id": "LSwjjyVuE0g-"
      },
      "source": [
        "*Random Forest*"
      ]
    },
    {
      "cell_type": "code",
      "metadata": {
        "id": "kSu6v7YAE0MI"
      },
      "source": [
        "from sklearn.ensemble import RandomForestClassifier\n",
        "rf=RandomForestClassifier()\n"
      ],
      "execution_count": null,
      "outputs": []
    },
    {
      "cell_type": "code",
      "metadata": {
        "colab": {
          "base_uri": "https://localhost:8080/"
        },
        "id": "oMCsS7yOFBDO",
        "outputId": "18c5da0d-711b-4825-ad1d-ac6b7296be98"
      },
      "source": [
        "from sklearn.model_selection import train_test_split\n",
        "x_train,x_test,y_train2,y_test=train_test_split(autism_train,y_train,test_size=0.2,stratify=y_train,shuffle=True,random_state=100)\n",
        "rf.fit(x_train,y_train2)\n",
        "rf.score(x_train,y_train2),rf.score(x_test,y_test)"
      ],
      "execution_count": null,
      "outputs": [
        {
          "output_type": "execute_result",
          "data": {
            "text/plain": [
              "(1.0, 0.9605263157894737)"
            ]
          },
          "metadata": {
            "tags": []
          },
          "execution_count": 63
        }
      ]
    },
    {
      "cell_type": "code",
      "metadata": {
        "colab": {
          "base_uri": "https://localhost:8080/"
        },
        "id": "hihzm4gJRapq",
        "outputId": "e9a0eb5b-c97c-483f-a15f-d55133dc8cf7"
      },
      "source": [
        "#cross validation \n",
        "stratkfold(rf)"
      ],
      "execution_count": null,
      "outputs": [
        {
          "output_type": "stream",
          "text": [
            "the cross validation mean is 0.9655438596491228\n"
          ],
          "name": "stdout"
        }
      ]
    },
    {
      "cell_type": "code",
      "metadata": {
        "id": "yzW94oZNRLAq"
      },
      "source": [
        "y_pred=rf.predict(x_test)"
      ],
      "execution_count": null,
      "outputs": []
    },
    {
      "cell_type": "code",
      "metadata": {
        "colab": {
          "base_uri": "https://localhost:8080/",
          "height": 469
        },
        "id": "ds7WXlBlRhL3",
        "outputId": "9ac7a9f7-0ff8-4c82-d2ae-8f55c7284208"
      },
      "source": [
        "# model evaluation \n",
        "model_eval(y_test,y_pred)"
      ],
      "execution_count": null,
      "outputs": [
        {
          "output_type": "stream",
          "text": [
            "CLASSIFICATION REPORT\n",
            "              precision    recall  f1-score   support\n",
            "\n",
            "           0       0.97      0.95      0.96        38\n",
            "           1       0.95      0.97      0.96        38\n",
            "\n",
            "    accuracy                           0.96        76\n",
            "   macro avg       0.96      0.96      0.96        76\n",
            "weighted avg       0.96      0.96      0.96        76\n",
            "\n",
            "         Confusion matrix      \n",
            "ROC AUC Score is 0.9605263157894739\n"
          ],
          "name": "stdout"
        },
        {
          "output_type": "display_data",
          "data": {
            "image/png": "[encoded data removed]",
            "text/plain": [
              "<Figure size 432x288 with 2 Axes>"
            ]
          },
          "metadata": {
            "tags": [],
            "needs_background": "light"
          }
        }
      ]
    },
    {
      "cell_type": "code",
      "metadata": {
        "id": "B1cDYTDcc_VC"
      },
      "source": [
        ""
      ],
      "execution_count": null,
      "outputs": []
    }
  ]
}