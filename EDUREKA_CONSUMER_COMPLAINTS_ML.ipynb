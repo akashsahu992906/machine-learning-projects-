{
  "nbformat": 4,
  "nbformat_minor": 0,
  "metadata": {
    "colab": {
      "name": "EDUREKA_CONSUMER_COMPLAINTS_ML.ipynb",
      "provenance": [],
      "collapsed_sections": [],
      "include_colab_link": true
    },
    "kernelspec": {
      "display_name": "Python 3",
      "name": "python3"
    },
    "language_info": {
      "name": "python"
    }
  },
  "cells": [
    {
      "cell_type": "markdown",
      "metadata": {
        "id": "view-in-github",
        "colab_type": "text"
      },
      "source": [
        "<a href=\"https://colab.research.google.com/github/akashsahu992906/machine-learning-projects-/blob/main/EDUREKA_CONSUMER_COMPLAINTS_ML.ipynb\" target=\"_parent\"><img src=\"https://colab.research.google.com/assets/colab-badge.svg\" alt=\"Open In Colab\"/></a>"
      ]
    },
    {
      "cell_type": "markdown",
      "metadata": {
        "id": "mu8HM98lzoc6"
      },
      "source": [
        " **IMPORT LIBRARIES AND DATASET**"
      ]
    },
    {
      "cell_type": "code",
      "metadata": {
        "colab": {
          "base_uri": "https://localhost:8080/",
          "height": 581
        },
        "id": "v-uV14_YeZP_",
        "outputId": "44c89888-e5f7-447e-e343-1e1e9ebce79b"
      },
      "source": [
        "import numpy as np\n",
        "import pandas as pd\n",
        "import matplotlib.pyplot as plt\n",
        "import seaborn as sns\n",
        "data_train=pd.read_csv(\"/content/Edureka_Consumer_Complaints_train.csv\",parse_dates=['Date received','Date sent to company'])\n",
        "data_train.head()"
      ],
      "execution_count": null,
      "outputs": [
        {
          "output_type": "execute_result",
          "data": {
            "text/html": [
              "<div>\n",
              "<style scoped>\n",
              "    .dataframe tbody tr th:only-of-type {\n",
              "        vertical-align: middle;\n",
              "    }\n",
              "\n",
              "    .dataframe tbody tr th {\n",
              "        vertical-align: top;\n",
              "    }\n",
              "\n",
              "    .dataframe thead th {\n",
              "        text-align: right;\n",
              "    }\n",
              "</style>\n",
              "<table border=\"1\" class=\"dataframe\">\n",
              "  <thead>\n",
              "    <tr style=\"text-align: right;\">\n",
              "      <th></th>\n",
              "      <th>Date received</th>\n",
              "      <th>Product</th>\n",
              "      <th>Sub-product</th>\n",
              "      <th>Issue</th>\n",
              "      <th>Sub-issue</th>\n",
              "      <th>Consumer complaint narrative</th>\n",
              "      <th>Company public response</th>\n",
              "      <th>Company</th>\n",
              "      <th>State</th>\n",
              "      <th>ZIP code</th>\n",
              "      <th>Tags</th>\n",
              "      <th>Consumer consent provided?</th>\n",
              "      <th>Submitted via</th>\n",
              "      <th>Date sent to company</th>\n",
              "      <th>Company response to consumer</th>\n",
              "      <th>Timely response?</th>\n",
              "      <th>Consumer disputed?</th>\n",
              "      <th>Complaint ID</th>\n",
              "    </tr>\n",
              "  </thead>\n",
              "  <tbody>\n",
              "    <tr>\n",
              "      <th>0</th>\n",
              "      <td>2015-10-14</td>\n",
              "      <td>Credit reporting</td>\n",
              "      <td>NaN</td>\n",
              "      <td>Incorrect information on credit report</td>\n",
              "      <td>Information is not mine</td>\n",
              "      <td>NaN</td>\n",
              "      <td>NaN</td>\n",
              "      <td>Equifax</td>\n",
              "      <td>GA</td>\n",
              "      <td>30134</td>\n",
              "      <td>NaN</td>\n",
              "      <td>Consent not provided</td>\n",
              "      <td>Web</td>\n",
              "      <td>2015-10-14</td>\n",
              "      <td>Closed with explanation</td>\n",
              "      <td>Yes</td>\n",
              "      <td>No</td>\n",
              "      <td>1605653</td>\n",
              "    </tr>\n",
              "    <tr>\n",
              "      <th>1</th>\n",
              "      <td>2015-04-26</td>\n",
              "      <td>Bank account or service</td>\n",
              "      <td>Other bank product/service</td>\n",
              "      <td>Deposits and withdrawals</td>\n",
              "      <td>NaN</td>\n",
              "      <td>RE : XXXX XXXX XXXX-PRIVILEGED AND CONFIDENTIA...</td>\n",
              "      <td>NaN</td>\n",
              "      <td>Wells Fargo &amp; Company</td>\n",
              "      <td>GA</td>\n",
              "      <td>319XX</td>\n",
              "      <td>NaN</td>\n",
              "      <td>Consent provided</td>\n",
              "      <td>Web</td>\n",
              "      <td>2015-04-26</td>\n",
              "      <td>Closed with explanation</td>\n",
              "      <td>Yes</td>\n",
              "      <td>Yes</td>\n",
              "      <td>1347613</td>\n",
              "    </tr>\n",
              "    <tr>\n",
              "      <th>2</th>\n",
              "      <td>2013-12-20</td>\n",
              "      <td>Credit card</td>\n",
              "      <td>NaN</td>\n",
              "      <td>Other</td>\n",
              "      <td>NaN</td>\n",
              "      <td>NaN</td>\n",
              "      <td>NaN</td>\n",
              "      <td>Citibank</td>\n",
              "      <td>SC</td>\n",
              "      <td>29203</td>\n",
              "      <td>NaN</td>\n",
              "      <td>NaN</td>\n",
              "      <td>Phone</td>\n",
              "      <td>2014-01-03</td>\n",
              "      <td>Closed with non-monetary relief</td>\n",
              "      <td>Yes</td>\n",
              "      <td>No</td>\n",
              "      <td>640394</td>\n",
              "    </tr>\n",
              "    <tr>\n",
              "      <th>3</th>\n",
              "      <td>2016-03-03</td>\n",
              "      <td>Debt collection</td>\n",
              "      <td>Other (i.e. phone, health club, etc.)</td>\n",
              "      <td>Disclosure verification of debt</td>\n",
              "      <td>Not given enough info to verify debt</td>\n",
              "      <td>NaN</td>\n",
              "      <td>Company has responded to the consumer and the ...</td>\n",
              "      <td>FAIR COLLECTIONS &amp; OUTSOURCING, INC.</td>\n",
              "      <td>OH</td>\n",
              "      <td>43082</td>\n",
              "      <td>NaN</td>\n",
              "      <td>NaN</td>\n",
              "      <td>Referral</td>\n",
              "      <td>2016-03-04</td>\n",
              "      <td>Closed with explanation</td>\n",
              "      <td>Yes</td>\n",
              "      <td>No</td>\n",
              "      <td>1815134</td>\n",
              "    </tr>\n",
              "    <tr>\n",
              "      <th>4</th>\n",
              "      <td>2015-01-30</td>\n",
              "      <td>Debt collection</td>\n",
              "      <td>Medical</td>\n",
              "      <td>Disclosure verification of debt</td>\n",
              "      <td>Not given enough info to verify debt</td>\n",
              "      <td>NaN</td>\n",
              "      <td>NaN</td>\n",
              "      <td>HCFS Health Care Financial Services, Inc.</td>\n",
              "      <td>CA</td>\n",
              "      <td>90036</td>\n",
              "      <td>NaN</td>\n",
              "      <td>NaN</td>\n",
              "      <td>Web</td>\n",
              "      <td>2015-01-30</td>\n",
              "      <td>Closed with explanation</td>\n",
              "      <td>Yes</td>\n",
              "      <td>Yes</td>\n",
              "      <td>1218613</td>\n",
              "    </tr>\n",
              "  </tbody>\n",
              "</table>\n",
              "</div>"
            ],
            "text/plain": [
              "  Date received                  Product  ... Consumer disputed? Complaint ID\n",
              "0    2015-10-14         Credit reporting  ...                 No      1605653\n",
              "1    2015-04-26  Bank account or service  ...                Yes      1347613\n",
              "2    2013-12-20              Credit card  ...                 No       640394\n",
              "3    2016-03-03          Debt collection  ...                 No      1815134\n",
              "4    2015-01-30          Debt collection  ...                Yes      1218613\n",
              "\n",
              "[5 rows x 18 columns]"
            ]
          },
          "metadata": {
            "tags": []
          },
          "execution_count": 1
        }
      ]
    },
    {
      "cell_type": "code",
      "metadata": {
        "colab": {
          "base_uri": "https://localhost:8080/"
        },
        "id": "YI3ecsRNb8dC",
        "outputId": "64f4cd9c-aa35-4ddb-9f87-d234a97c5533"
      },
      "source": [
        "data_train.shape"
      ],
      "execution_count": null,
      "outputs": [
        {
          "output_type": "execute_result",
          "data": {
            "text/plain": [
              "(358810, 18)"
            ]
          },
          "metadata": {
            "tags": []
          },
          "execution_count": 2
        }
      ]
    },
    {
      "cell_type": "markdown",
      "metadata": {
        "id": "mybkjTMdbs2-"
      },
      "source": [
        "***Dataset information***"
      ]
    },
    {
      "cell_type": "code",
      "metadata": {
        "colab": {
          "base_uri": "https://localhost:8080/"
        },
        "id": "wItmPcoShKvH",
        "outputId": "756e5194-b50a-4286-a0c6-581a233f910a"
      },
      "source": [
        "data_train.info()\n"
      ],
      "execution_count": null,
      "outputs": [
        {
          "output_type": "stream",
          "text": [
            "<class 'pandas.core.frame.DataFrame'>\n",
            "RangeIndex: 358810 entries, 0 to 358809\n",
            "Data columns (total 18 columns):\n",
            " #   Column                        Non-Null Count   Dtype         \n",
            "---  ------                        --------------   -----         \n",
            " 0   Date received                 358810 non-null  datetime64[ns]\n",
            " 1   Product                       358810 non-null  object        \n",
            " 2   Sub-product                   255024 non-null  object        \n",
            " 3   Issue                         358810 non-null  object        \n",
            " 4   Sub-issue                     139436 non-null  object        \n",
            " 5   Consumer complaint narrative  56180 non-null   object        \n",
            " 6   Company public response       67931 non-null   object        \n",
            " 7   Company                       358810 non-null  object        \n",
            " 8   State                         355907 non-null  object        \n",
            " 9   ZIP code                      355899 non-null  object        \n",
            " 10  Tags                          50226 non-null   object        \n",
            " 11  Consumer consent provided?    101580 non-null  object        \n",
            " 12  Submitted via                 358810 non-null  object        \n",
            " 13  Date sent to company          358810 non-null  datetime64[ns]\n",
            " 14  Company response to consumer  358810 non-null  object        \n",
            " 15  Timely response?              358810 non-null  object        \n",
            " 16  Consumer disputed?            358810 non-null  object        \n",
            " 17  Complaint ID                  358810 non-null  int64         \n",
            "dtypes: datetime64[ns](2), int64(1), object(15)\n",
            "memory usage: 49.3+ MB\n"
          ],
          "name": "stdout"
        }
      ]
    },
    {
      "cell_type": "markdown",
      "metadata": {
        "id": "t8AkRAmbb1cW"
      },
      "source": [
        "***Missing Values***"
      ]
    },
    {
      "cell_type": "code",
      "metadata": {
        "id": "Noi-ZncGfL7J"
      },
      "source": [
        "#Analyze the missing values in the columns\n",
        "miss_df=pd.DataFrame({'columns':data_train.columns,'missing values':[sum(data_train[x].isnull()) for x in data_train.columns],'missing ratio':[sum(data_train[x].isnull())/data_train.shape[0] for x in data_train.columns]})"
      ],
      "execution_count": null,
      "outputs": []
    },
    {
      "cell_type": "code",
      "metadata": {
        "colab": {
          "base_uri": "https://localhost:8080/",
          "height": 297
        },
        "id": "L9JFBN49ge86",
        "outputId": "6f5a279f-0c10-409f-c3b1-742327c5351b"
      },
      "source": [
        "#columns with missing values greater than zero\n",
        "miss_df[miss_df['missing ratio']>0]"
      ],
      "execution_count": null,
      "outputs": [
        {
          "output_type": "execute_result",
          "data": {
            "text/html": [
              "<div>\n",
              "<style scoped>\n",
              "    .dataframe tbody tr th:only-of-type {\n",
              "        vertical-align: middle;\n",
              "    }\n",
              "\n",
              "    .dataframe tbody tr th {\n",
              "        vertical-align: top;\n",
              "    }\n",
              "\n",
              "    .dataframe thead th {\n",
              "        text-align: right;\n",
              "    }\n",
              "</style>\n",
              "<table border=\"1\" class=\"dataframe\">\n",
              "  <thead>\n",
              "    <tr style=\"text-align: right;\">\n",
              "      <th></th>\n",
              "      <th>columns</th>\n",
              "      <th>missing values</th>\n",
              "      <th>missing ratio</th>\n",
              "    </tr>\n",
              "  </thead>\n",
              "  <tbody>\n",
              "    <tr>\n",
              "      <th>2</th>\n",
              "      <td>Sub-product</td>\n",
              "      <td>103786</td>\n",
              "      <td>0.289251</td>\n",
              "    </tr>\n",
              "    <tr>\n",
              "      <th>4</th>\n",
              "      <td>Sub-issue</td>\n",
              "      <td>219374</td>\n",
              "      <td>0.611393</td>\n",
              "    </tr>\n",
              "    <tr>\n",
              "      <th>5</th>\n",
              "      <td>Consumer complaint narrative</td>\n",
              "      <td>302630</td>\n",
              "      <td>0.843427</td>\n",
              "    </tr>\n",
              "    <tr>\n",
              "      <th>6</th>\n",
              "      <td>Company public response</td>\n",
              "      <td>290879</td>\n",
              "      <td>0.810677</td>\n",
              "    </tr>\n",
              "    <tr>\n",
              "      <th>8</th>\n",
              "      <td>State</td>\n",
              "      <td>2903</td>\n",
              "      <td>0.008091</td>\n",
              "    </tr>\n",
              "    <tr>\n",
              "      <th>9</th>\n",
              "      <td>ZIP code</td>\n",
              "      <td>2911</td>\n",
              "      <td>0.008113</td>\n",
              "    </tr>\n",
              "    <tr>\n",
              "      <th>10</th>\n",
              "      <td>Tags</td>\n",
              "      <td>308584</td>\n",
              "      <td>0.860021</td>\n",
              "    </tr>\n",
              "    <tr>\n",
              "      <th>11</th>\n",
              "      <td>Consumer consent provided?</td>\n",
              "      <td>257230</td>\n",
              "      <td>0.716898</td>\n",
              "    </tr>\n",
              "  </tbody>\n",
              "</table>\n",
              "</div>"
            ],
            "text/plain": [
              "                         columns  missing values  missing ratio\n",
              "2                    Sub-product          103786       0.289251\n",
              "4                      Sub-issue          219374       0.611393\n",
              "5   Consumer complaint narrative          302630       0.843427\n",
              "6        Company public response          290879       0.810677\n",
              "8                          State            2903       0.008091\n",
              "9                       ZIP code            2911       0.008113\n",
              "10                          Tags          308584       0.860021\n",
              "11    Consumer consent provided?          257230       0.716898"
            ]
          },
          "metadata": {
            "tags": []
          },
          "execution_count": 5
        }
      ]
    },
    {
      "cell_type": "code",
      "metadata": {
        "colab": {
          "base_uri": "https://localhost:8080/",
          "height": 607
        },
        "id": "TeZcgqEZbB52",
        "outputId": "ffedaed2-99de-44ea-d872-e3c07d2b547a"
      },
      "source": [
        "#columns with missing values in descending order \n",
        "miss_df.sort_values(by=\"missing ratio\",ascending=False)"
      ],
      "execution_count": null,
      "outputs": [
        {
          "output_type": "execute_result",
          "data": {
            "text/html": [
              "<div>\n",
              "<style scoped>\n",
              "    .dataframe tbody tr th:only-of-type {\n",
              "        vertical-align: middle;\n",
              "    }\n",
              "\n",
              "    .dataframe tbody tr th {\n",
              "        vertical-align: top;\n",
              "    }\n",
              "\n",
              "    .dataframe thead th {\n",
              "        text-align: right;\n",
              "    }\n",
              "</style>\n",
              "<table border=\"1\" class=\"dataframe\">\n",
              "  <thead>\n",
              "    <tr style=\"text-align: right;\">\n",
              "      <th></th>\n",
              "      <th>columns</th>\n",
              "      <th>missing values</th>\n",
              "      <th>missing ratio</th>\n",
              "    </tr>\n",
              "  </thead>\n",
              "  <tbody>\n",
              "    <tr>\n",
              "      <th>10</th>\n",
              "      <td>Tags</td>\n",
              "      <td>308584</td>\n",
              "      <td>0.860021</td>\n",
              "    </tr>\n",
              "    <tr>\n",
              "      <th>5</th>\n",
              "      <td>Consumer complaint narrative</td>\n",
              "      <td>302630</td>\n",
              "      <td>0.843427</td>\n",
              "    </tr>\n",
              "    <tr>\n",
              "      <th>6</th>\n",
              "      <td>Company public response</td>\n",
              "      <td>290879</td>\n",
              "      <td>0.810677</td>\n",
              "    </tr>\n",
              "    <tr>\n",
              "      <th>11</th>\n",
              "      <td>Consumer consent provided?</td>\n",
              "      <td>257230</td>\n",
              "      <td>0.716898</td>\n",
              "    </tr>\n",
              "    <tr>\n",
              "      <th>4</th>\n",
              "      <td>Sub-issue</td>\n",
              "      <td>219374</td>\n",
              "      <td>0.611393</td>\n",
              "    </tr>\n",
              "    <tr>\n",
              "      <th>2</th>\n",
              "      <td>Sub-product</td>\n",
              "      <td>103786</td>\n",
              "      <td>0.289251</td>\n",
              "    </tr>\n",
              "    <tr>\n",
              "      <th>9</th>\n",
              "      <td>ZIP code</td>\n",
              "      <td>2911</td>\n",
              "      <td>0.008113</td>\n",
              "    </tr>\n",
              "    <tr>\n",
              "      <th>8</th>\n",
              "      <td>State</td>\n",
              "      <td>2903</td>\n",
              "      <td>0.008091</td>\n",
              "    </tr>\n",
              "    <tr>\n",
              "      <th>13</th>\n",
              "      <td>Date sent to company</td>\n",
              "      <td>0</td>\n",
              "      <td>0.000000</td>\n",
              "    </tr>\n",
              "    <tr>\n",
              "      <th>16</th>\n",
              "      <td>Consumer disputed?</td>\n",
              "      <td>0</td>\n",
              "      <td>0.000000</td>\n",
              "    </tr>\n",
              "    <tr>\n",
              "      <th>15</th>\n",
              "      <td>Timely response?</td>\n",
              "      <td>0</td>\n",
              "      <td>0.000000</td>\n",
              "    </tr>\n",
              "    <tr>\n",
              "      <th>14</th>\n",
              "      <td>Company response to consumer</td>\n",
              "      <td>0</td>\n",
              "      <td>0.000000</td>\n",
              "    </tr>\n",
              "    <tr>\n",
              "      <th>0</th>\n",
              "      <td>Date received</td>\n",
              "      <td>0</td>\n",
              "      <td>0.000000</td>\n",
              "    </tr>\n",
              "    <tr>\n",
              "      <th>12</th>\n",
              "      <td>Submitted via</td>\n",
              "      <td>0</td>\n",
              "      <td>0.000000</td>\n",
              "    </tr>\n",
              "    <tr>\n",
              "      <th>1</th>\n",
              "      <td>Product</td>\n",
              "      <td>0</td>\n",
              "      <td>0.000000</td>\n",
              "    </tr>\n",
              "    <tr>\n",
              "      <th>7</th>\n",
              "      <td>Company</td>\n",
              "      <td>0</td>\n",
              "      <td>0.000000</td>\n",
              "    </tr>\n",
              "    <tr>\n",
              "      <th>3</th>\n",
              "      <td>Issue</td>\n",
              "      <td>0</td>\n",
              "      <td>0.000000</td>\n",
              "    </tr>\n",
              "    <tr>\n",
              "      <th>17</th>\n",
              "      <td>Complaint ID</td>\n",
              "      <td>0</td>\n",
              "      <td>0.000000</td>\n",
              "    </tr>\n",
              "  </tbody>\n",
              "</table>\n",
              "</div>"
            ],
            "text/plain": [
              "                         columns  missing values  missing ratio\n",
              "10                          Tags          308584       0.860021\n",
              "5   Consumer complaint narrative          302630       0.843427\n",
              "6        Company public response          290879       0.810677\n",
              "11    Consumer consent provided?          257230       0.716898\n",
              "4                      Sub-issue          219374       0.611393\n",
              "2                    Sub-product          103786       0.289251\n",
              "9                       ZIP code            2911       0.008113\n",
              "8                          State            2903       0.008091\n",
              "13          Date sent to company               0       0.000000\n",
              "16            Consumer disputed?               0       0.000000\n",
              "15              Timely response?               0       0.000000\n",
              "14  Company response to consumer               0       0.000000\n",
              "0                  Date received               0       0.000000\n",
              "12                 Submitted via               0       0.000000\n",
              "1                        Product               0       0.000000\n",
              "7                        Company               0       0.000000\n",
              "3                          Issue               0       0.000000\n",
              "17                  Complaint ID               0       0.000000"
            ]
          },
          "metadata": {
            "tags": []
          },
          "execution_count": 6
        }
      ]
    },
    {
      "cell_type": "code",
      "metadata": {
        "id": "ZxyaftC5aiei"
      },
      "source": [
        "import missingno as msno"
      ],
      "execution_count": null,
      "outputs": []
    },
    {
      "cell_type": "code",
      "metadata": {
        "colab": {
          "base_uri": "https://localhost:8080/",
          "height": 559
        },
        "id": "BHKXrv_SZvFY",
        "outputId": "7c06db23-b180-45e7-df9e-bd38baca84a9"
      },
      "source": [
        "#bar plot describing the missing values in each column \n",
        "#tags,consumer complaint narrative,company public response, consumer consent provided,sub issue have more than 50% of their records missing \n",
        "\n",
        "msno.bar(data_train)\n"
      ],
      "execution_count": null,
      "outputs": [
        {
          "output_type": "execute_result",
          "data": {
            "text/plain": [
              "<matplotlib.axes._subplots.AxesSubplot at 0x7f2eebff4f50>"
            ]
          },
          "metadata": {
            "tags": []
          },
          "execution_count": 8
        },
        {
          "output_type": "display_data",
          "data": {
            "image/png": "[encoded data removed]",
            "text/plain": [
              "<Figure size 1728x720 with 3 Axes>"
            ]
          },
          "metadata": {
            "tags": [],
            "needs_background": "light"
          }
        }
      ]
    },
    {
      "cell_type": "code",
      "metadata": {
        "colab": {
          "base_uri": "https://localhost:8080/",
          "height": 666
        },
        "id": "aY_ckHwShHA9",
        "outputId": "81fd866e-dabc-4547-85b6-29e20fe37667"
      },
      "source": [
        "# heatmap of missing values, gives the correlation between missing value occurence of two variables\n",
        "#State and zipcode have a correlation of 1, meaning both state and zip code have missing values in the same row(instance) \n",
        "msno.heatmap(data_train)"
      ],
      "execution_count": null,
      "outputs": [
        {
          "output_type": "execute_result",
          "data": {
            "text/plain": [
              "<matplotlib.axes._subplots.AxesSubplot at 0x7f2ee1034c50>"
            ]
          },
          "metadata": {
            "tags": []
          },
          "execution_count": 9
        },
        {
          "output_type": "display_data",
          "data": {
            "image/png": "[encoded data removed]",
            "text/plain": [
              "<Figure size 1440x864 with 2 Axes>"
            ]
          },
          "metadata": {
            "tags": [],
            "needs_background": "light"
          }
        }
      ]
    },
    {
      "cell_type": "markdown",
      "metadata": {
        "id": "mClQVNUqz1nI"
      },
      "source": [
        "**No of unique values and most frequent categories in the columns ** "
      ]
    },
    {
      "cell_type": "code",
      "metadata": {
        "colab": {
          "base_uri": "https://localhost:8080/",
          "height": 607
        },
        "id": "xDKBZtYuWgCM",
        "outputId": "7f924b09-9f82-4b47-d284-41037975eba5"
      },
      "source": [
        "unique_df=pd.DataFrame({'columns':data_train.columns,'unique':[len(data_train[i].unique()) for i in data_train.columns],'most_frequent':[data_train[i].value_counts().head(1).index[0] for i in data_train.columns]})\n",
        "unique_df"
      ],
      "execution_count": null,
      "outputs": [
        {
          "output_type": "execute_result",
          "data": {
            "text/html": [
              "<div>\n",
              "<style scoped>\n",
              "    .dataframe tbody tr th:only-of-type {\n",
              "        vertical-align: middle;\n",
              "    }\n",
              "\n",
              "    .dataframe tbody tr th {\n",
              "        vertical-align: top;\n",
              "    }\n",
              "\n",
              "    .dataframe thead th {\n",
              "        text-align: right;\n",
              "    }\n",
              "</style>\n",
              "<table border=\"1\" class=\"dataframe\">\n",
              "  <thead>\n",
              "    <tr style=\"text-align: right;\">\n",
              "      <th></th>\n",
              "      <th>columns</th>\n",
              "      <th>unique</th>\n",
              "      <th>most_frequent</th>\n",
              "    </tr>\n",
              "  </thead>\n",
              "  <tbody>\n",
              "    <tr>\n",
              "      <th>0</th>\n",
              "      <td>Date received</td>\n",
              "      <td>1758</td>\n",
              "      <td>2015-08-27 00:00:00</td>\n",
              "    </tr>\n",
              "    <tr>\n",
              "      <th>1</th>\n",
              "      <td>Product</td>\n",
              "      <td>12</td>\n",
              "      <td>Mortgage</td>\n",
              "    </tr>\n",
              "    <tr>\n",
              "      <th>2</th>\n",
              "      <td>Sub-product</td>\n",
              "      <td>48</td>\n",
              "      <td>Other mortgage</td>\n",
              "    </tr>\n",
              "    <tr>\n",
              "      <th>3</th>\n",
              "      <td>Issue</td>\n",
              "      <td>95</td>\n",
              "      <td>Loan modification,collection,foreclosure</td>\n",
              "    </tr>\n",
              "    <tr>\n",
              "      <th>4</th>\n",
              "      <td>Sub-issue</td>\n",
              "      <td>68</td>\n",
              "      <td>Account status</td>\n",
              "    </tr>\n",
              "    <tr>\n",
              "      <th>5</th>\n",
              "      <td>Consumer complaint narrative</td>\n",
              "      <td>55536</td>\n",
              "      <td>This company continues to report on my credit ...</td>\n",
              "    </tr>\n",
              "    <tr>\n",
              "      <th>6</th>\n",
              "      <td>Company public response</td>\n",
              "      <td>11</td>\n",
              "      <td>Company chooses not to provide a public response</td>\n",
              "    </tr>\n",
              "    <tr>\n",
              "      <th>7</th>\n",
              "      <td>Company</td>\n",
              "      <td>3064</td>\n",
              "      <td>Bank of America</td>\n",
              "    </tr>\n",
              "    <tr>\n",
              "      <th>8</th>\n",
              "      <td>State</td>\n",
              "      <td>63</td>\n",
              "      <td>CA</td>\n",
              "    </tr>\n",
              "    <tr>\n",
              "      <th>9</th>\n",
              "      <td>ZIP code</td>\n",
              "      <td>24182</td>\n",
              "      <td>300XX</td>\n",
              "    </tr>\n",
              "    <tr>\n",
              "      <th>10</th>\n",
              "      <td>Tags</td>\n",
              "      <td>4</td>\n",
              "      <td>Older American</td>\n",
              "    </tr>\n",
              "    <tr>\n",
              "      <th>11</th>\n",
              "      <td>Consumer consent provided?</td>\n",
              "      <td>5</td>\n",
              "      <td>Consent provided</td>\n",
              "    </tr>\n",
              "    <tr>\n",
              "      <th>12</th>\n",
              "      <td>Submitted via</td>\n",
              "      <td>6</td>\n",
              "      <td>Web</td>\n",
              "    </tr>\n",
              "    <tr>\n",
              "      <th>13</th>\n",
              "      <td>Date sent to company</td>\n",
              "      <td>1701</td>\n",
              "      <td>2015-11-13 00:00:00</td>\n",
              "    </tr>\n",
              "    <tr>\n",
              "      <th>14</th>\n",
              "      <td>Company response to consumer</td>\n",
              "      <td>6</td>\n",
              "      <td>Closed with explanation</td>\n",
              "    </tr>\n",
              "    <tr>\n",
              "      <th>15</th>\n",
              "      <td>Timely response?</td>\n",
              "      <td>2</td>\n",
              "      <td>Yes</td>\n",
              "    </tr>\n",
              "    <tr>\n",
              "      <th>16</th>\n",
              "      <td>Consumer disputed?</td>\n",
              "      <td>2</td>\n",
              "      <td>No</td>\n",
              "    </tr>\n",
              "    <tr>\n",
              "      <th>17</th>\n",
              "      <td>Complaint ID</td>\n",
              "      <td>358810</td>\n",
              "      <td>1050623</td>\n",
              "    </tr>\n",
              "  </tbody>\n",
              "</table>\n",
              "</div>"
            ],
            "text/plain": [
              "                         columns  ...                                      most_frequent\n",
              "0                  Date received  ...                                2015-08-27 00:00:00\n",
              "1                        Product  ...                                           Mortgage\n",
              "2                    Sub-product  ...                                     Other mortgage\n",
              "3                          Issue  ...           Loan modification,collection,foreclosure\n",
              "4                      Sub-issue  ...                                     Account status\n",
              "5   Consumer complaint narrative  ...  This company continues to report on my credit ...\n",
              "6        Company public response  ...   Company chooses not to provide a public response\n",
              "7                        Company  ...                                    Bank of America\n",
              "8                          State  ...                                                 CA\n",
              "9                       ZIP code  ...                                              300XX\n",
              "10                          Tags  ...                                     Older American\n",
              "11    Consumer consent provided?  ...                                   Consent provided\n",
              "12                 Submitted via  ...                                                Web\n",
              "13          Date sent to company  ...                                2015-11-13 00:00:00\n",
              "14  Company response to consumer  ...                            Closed with explanation\n",
              "15              Timely response?  ...                                                Yes\n",
              "16            Consumer disputed?  ...                                                 No\n",
              "17                  Complaint ID  ...                                            1050623\n",
              "\n",
              "[18 rows x 3 columns]"
            ]
          },
          "metadata": {
            "tags": []
          },
          "execution_count": 10
        }
      ]
    },
    {
      "cell_type": "code",
      "metadata": {
        "colab": {
          "base_uri": "https://localhost:8080/",
          "height": 498
        },
        "id": "JDC7lEfcghEG",
        "outputId": "8e679f83-4204-4de9-db2c-9182290ef48f"
      },
      "source": [
        "## top 5 issues raised by customer\n",
        "\n",
        "\n",
        "data_train.groupby('Issue')['Issue'].count().sort_values(ascending=False).head(5).plot(kind=\"bar\",stacked=True)\n"
      ],
      "execution_count": null,
      "outputs": [
        {
          "output_type": "execute_result",
          "data": {
            "text/plain": [
              "<matplotlib.axes._subplots.AxesSubplot at 0x7f2eda2f0610>"
            ]
          },
          "metadata": {
            "tags": []
          },
          "execution_count": 21
        },
        {
          "output_type": "display_data",
          "data": {
            "image/png": "[encoded data removed]",
            "text/plain": [
              "<Figure size 432x288 with 1 Axes>"
            ]
          },
          "metadata": {
            "tags": [],
            "needs_background": "light"
          }
        }
      ]
    },
    {
      "cell_type": "code",
      "metadata": {
        "colab": {
          "base_uri": "https://localhost:8080/",
          "height": 407
        },
        "id": "-NdS_1Z1hHKp",
        "outputId": "30575889-5720-4fb6-8782-517784356020"
      },
      "source": [
        "# products ranked by number of complaints(top5)\n",
        "data_train.groupby('Product')['Complaint ID'].count().sort_values(ascending=False).head(5).plot(kind='bar',stacked=True)"
      ],
      "execution_count": null,
      "outputs": [
        {
          "output_type": "execute_result",
          "data": {
            "text/plain": [
              "<matplotlib.axes._subplots.AxesSubplot at 0x7f2eda27f3d0>"
            ]
          },
          "metadata": {
            "tags": []
          },
          "execution_count": 22
        },
        {
          "output_type": "display_data",
          "data": {
            "image/png": "[encoded data removed]",
            "text/plain": [
              "<Figure size 432x288 with 1 Axes>"
            ]
          },
          "metadata": {
            "tags": [],
            "needs_background": "light"
          }
        }
      ]
    },
    {
      "cell_type": "code",
      "metadata": {
        "colab": {
          "base_uri": "https://localhost:8080/",
          "height": 480
        },
        "id": "so-J1DfRc7os",
        "outputId": "ee6fb55f-b512-47b0-eb7d-725435c6df15"
      },
      "source": [
        "#Companies ranked by number of complaints(top10)\n",
        "data_train.groupby('Company')['Complaint ID'].count().sort_values(ascending=False).head(10).plot(kind='bar',stacked=False)"
      ],
      "execution_count": null,
      "outputs": [
        {
          "output_type": "execute_result",
          "data": {
            "text/plain": [
              "<matplotlib.axes._subplots.AxesSubplot at 0x7f2eda1daa50>"
            ]
          },
          "metadata": {
            "tags": []
          },
          "execution_count": 23
        },
        {
          "output_type": "display_data",
          "data": {
            "image/png": "[encoded data removed]",
            "text/plain": [
              "<Figure size 432x288 with 1 Axes>"
            ]
          },
          "metadata": {
            "tags": [],
            "needs_background": "light"
          }
        }
      ]
    },
    {
      "cell_type": "code",
      "metadata": {
        "colab": {
          "base_uri": "https://localhost:8080/"
        },
        "id": "sQXKLSIAdoch",
        "outputId": "2682767e-0d1d-4ca6-fa65-93b10919e9af"
      },
      "source": [
        "#medium of complaints submitted\n",
        "data_train['Submitted via'].unique()"
      ],
      "execution_count": null,
      "outputs": [
        {
          "output_type": "execute_result",
          "data": {
            "text/plain": [
              "array(['Web', 'Phone', 'Referral', 'Postal mail', 'Fax', 'Email'],\n",
              "      dtype=object)"
            ]
          },
          "metadata": {
            "tags": []
          },
          "execution_count": 24
        }
      ]
    },
    {
      "cell_type": "code",
      "metadata": {
        "colab": {
          "base_uri": "https://localhost:8080/",
          "height": 303
        },
        "id": "qK-kD_PxeyNr",
        "outputId": "4ba48421-a9fe-4727-85ae-e8954987b9a7"
      },
      "source": [
        "#geographical distribution of complaints (top10 states)\n",
        "data_train.groupby(['State'])['Complaint ID'].count().sort_values(ascending=False).head(10).plot(kind='bar',stacked=True)"
      ],
      "execution_count": null,
      "outputs": [
        {
          "output_type": "execute_result",
          "data": {
            "text/plain": [
              "<matplotlib.axes._subplots.AxesSubplot at 0x7f2eda233890>"
            ]
          },
          "metadata": {
            "tags": []
          },
          "execution_count": 25
        },
        {
          "output_type": "display_data",
          "data": {
            "image/png": "[encoded data removed]",
            "text/plain": [
              "<Figure size 432x288 with 1 Axes>"
            ]
          },
          "metadata": {
            "tags": [],
            "needs_background": "light"
          }
        }
      ]
    },
    {
      "cell_type": "code",
      "metadata": {
        "id": "f1Mh7xOMioq0"
      },
      "source": [
        "data_train['Month']=data_train['Date received'].dt.month\n"
      ],
      "execution_count": null,
      "outputs": []
    },
    {
      "cell_type": "code",
      "metadata": {
        "id": "5Zptj_kEz1al"
      },
      "source": [
        "data_train['day of the week']=data_train['Date received'].dt.dayofweek\n"
      ],
      "execution_count": null,
      "outputs": []
    },
    {
      "cell_type": "code",
      "metadata": {
        "colab": {
          "base_uri": "https://localhost:8080/",
          "height": 299
        },
        "id": "mYxk6U6jqHZf",
        "outputId": "1675df58-0125-4ff1-b865-d34ff324864b"
      },
      "source": [
        "# complaints per month \n",
        "data_train.groupby('Month')['Complaint ID'].count().sort_values(ascending=False).plot(kind='bar',stacked=True)"
      ],
      "execution_count": null,
      "outputs": [
        {
          "output_type": "execute_result",
          "data": {
            "text/plain": [
              "<matplotlib.axes._subplots.AxesSubplot at 0x7fd51332b550>"
            ]
          },
          "metadata": {
            "tags": []
          },
          "execution_count": 19
        },
        {
          "output_type": "display_data",
          "data": {
            "image/png": "[encoded data removed]",
            "text/plain": [
              "<Figure size 432x288 with 1 Axes>"
            ]
          },
          "metadata": {
            "tags": []
          }
        }
      ]
    },
    {
      "cell_type": "code",
      "metadata": {
        "colab": {
          "base_uri": "https://localhost:8080/",
          "height": 293
        },
        "id": "6h10SaNWs7Nm",
        "outputId": "2845eca6-a59d-4e0d-9c18-041da75c56c1"
      },
      "source": [
        "#complaints per day of the week\n",
        "data_train.groupby('day of the week')['Complaint ID'].count().sort_values(ascending=False).plot(kind='bar',stacked=True)"
      ],
      "execution_count": null,
      "outputs": [
        {
          "output_type": "execute_result",
          "data": {
            "text/plain": [
              "<matplotlib.axes._subplots.AxesSubplot at 0x7fd514021f50>"
            ]
          },
          "metadata": {
            "tags": []
          },
          "execution_count": 20
        },
        {
          "output_type": "display_data",
          "data": {
            "image/png": "[encoded data removed]",
            "text/plain": [
              "<Figure size 432x288 with 1 Axes>"
            ]
          },
          "metadata": {
            "tags": []
          }
        }
      ]
    },
    {
      "cell_type": "code",
      "metadata": {
        "colab": {
          "base_uri": "https://localhost:8080/",
          "height": 886
        },
        "id": "Cny87Eoks9Rp",
        "outputId": "a50f1e50-0040-43ef-8ca0-ec55781dcf53"
      },
      "source": [
        "# types of public response (top5)\n",
        "data_train.groupby(['Company public response'])['Complaint ID'].count().sort_values(ascending=False).head(5).plot(kind=\"bar\",stacked=False)"
      ],
      "execution_count": null,
      "outputs": [
        {
          "output_type": "execute_result",
          "data": {
            "text/plain": [
              "<matplotlib.axes._subplots.AxesSubplot at 0x7f2ed9f448d0>"
            ]
          },
          "metadata": {
            "tags": []
          },
          "execution_count": 29
        },
        {
          "output_type": "display_data",
          "data": {
            "image/png": "[encoded data removed]",
            "text/plain": [
              "<Figure size 432x288 with 1 Axes>"
            ]
          },
          "metadata": {
            "tags": [],
            "needs_background": "light"
          }
        }
      ]
    },
    {
      "cell_type": "code",
      "metadata": {
        "colab": {
          "base_uri": "https://localhost:8080/",
          "height": 142
        },
        "id": "JwhKimTJG3PQ",
        "outputId": "39296f29-767c-45a8-b9d0-414585098a8b"
      },
      "source": [
        "# 'timely response' relation with 'consumer disputed?'\n",
        "pd.crosstab(data_train['Timely response?']=='Yes',data_train['Consumer disputed?'])\n"
      ],
      "execution_count": null,
      "outputs": [
        {
          "output_type": "execute_result",
          "data": {
            "text/html": [
              "<div>\n",
              "<style scoped>\n",
              "    .dataframe tbody tr th:only-of-type {\n",
              "        vertical-align: middle;\n",
              "    }\n",
              "\n",
              "    .dataframe tbody tr th {\n",
              "        vertical-align: top;\n",
              "    }\n",
              "\n",
              "    .dataframe thead th {\n",
              "        text-align: right;\n",
              "    }\n",
              "</style>\n",
              "<table border=\"1\" class=\"dataframe\">\n",
              "  <thead>\n",
              "    <tr style=\"text-align: right;\">\n",
              "      <th>Consumer disputed?</th>\n",
              "      <th>No</th>\n",
              "      <th>Yes</th>\n",
              "    </tr>\n",
              "    <tr>\n",
              "      <th>Timely response?</th>\n",
              "      <th></th>\n",
              "      <th></th>\n",
              "    </tr>\n",
              "  </thead>\n",
              "  <tbody>\n",
              "    <tr>\n",
              "      <th>False</th>\n",
              "      <td>4906</td>\n",
              "      <td>1229</td>\n",
              "    </tr>\n",
              "    <tr>\n",
              "      <th>True</th>\n",
              "      <td>277732</td>\n",
              "      <td>74943</td>\n",
              "    </tr>\n",
              "  </tbody>\n",
              "</table>\n",
              "</div>"
            ],
            "text/plain": [
              "Consumer disputed?      No    Yes\n",
              "Timely response?                 \n",
              "False                 4906   1229\n",
              "True                277732  74943"
            ]
          },
          "metadata": {
            "tags": []
          },
          "execution_count": 31
        }
      ]
    },
    {
      "cell_type": "code",
      "metadata": {
        "colab": {
          "base_uri": "https://localhost:8080/",
          "height": 312
        },
        "id": "cSruIJgxqHJI",
        "outputId": "d6a7c95b-1b9d-44bd-d77b-0eeb62dc0b45"
      },
      "source": [
        "# from the barplot we observe when timely response is given the consumer disputes less\n",
        "pd.crosstab(data_train['Timely response?']=='Yes',data_train['Consumer disputed?']).plot(kind=\"bar\",stacked=True)"
      ],
      "execution_count": null,
      "outputs": [
        {
          "output_type": "execute_result",
          "data": {
            "text/plain": [
              "<matplotlib.axes._subplots.AxesSubplot at 0x7f2eda0e1050>"
            ]
          },
          "metadata": {
            "tags": []
          },
          "execution_count": 32
        },
        {
          "output_type": "display_data",
          "data": {
            "image/png": "[encoded data removed]",
            "text/plain": [
              "<Figure size 432x288 with 1 Axes>"
            ]
          },
          "metadata": {
            "tags": [],
            "needs_background": "light"
          }
        }
      ]
    },
    {
      "cell_type": "code",
      "metadata": {
        "id": "FNTaYOJGJqSX"
      },
      "source": [
        "#drop unwanted variables\n",
        "#complaint id conveys no relevant information\n",
        "#Tags have a very high number of missing values and convey no important information\n",
        "#Zip code conveys similar information about location as state does and since both have same % of missing values we use state variable and drop ZIP code \n",
        "data_train=data_train.drop(['Complaint ID','Tags','ZIP code','Sub-issue'],axis=1)"
      ],
      "execution_count": null,
      "outputs": []
    },
    {
      "cell_type": "markdown",
      "metadata": {
        "id": "MGOY4MyR0g_L"
      },
      "source": [
        "*** Part 2-Text based modelling ***"
      ]
    },
    {
      "cell_type": "code",
      "metadata": {
        "id": "a8j3uOVTwfSY"
      },
      "source": [
        "data_train_new=data_train[['Consumer complaint narrative','Product']]\n",
        "data_train_new"
      ],
      "execution_count": null,
      "outputs": []
    },
    {
      "cell_type": "code",
      "metadata": {
        "id": "nw6XqxkJf2KS"
      },
      "source": [
        "data_train_new=data_train_new.dropna(how='any',axis=0)\n"
      ],
      "execution_count": null,
      "outputs": []
    },
    {
      "cell_type": "code",
      "metadata": {
        "id": "_P__xxwzgHNm"
      },
      "source": [
        "data_train_new.reset_index(drop=True)"
      ],
      "execution_count": null,
      "outputs": []
    },
    {
      "cell_type": "code",
      "metadata": {
        "id": "PPpi0fxBgJHD"
      },
      "source": [
        "#preprocess \n",
        "import nltk\n",
        "import re\n",
        "nltk.download('wordnet')\n",
        "nltk.download('punkt')\n",
        "nltk.download('stopwords')\n",
        "from nltk.corpus import stopwords\n",
        "from nltk.tokenize import word_tokenize\n",
        "import string\n",
        "from nltk.stem import WordNetLemmatizer\n",
        "lemmatizer=WordNetLemmatizer()\n",
        "\n",
        "def preprocess(text):\n",
        "    \n",
        "    text=re.sub('[^a-zA-Z]',' ',text)\n",
        "    text=re.sub('XXXX',' ',text)\n",
        "    text=re.sub('XXXX XXXX',' ',text)\n",
        "    text=re.sub('XXXX XXXX XXXX',' ',text)\n",
        "    text=text.lower()\n",
        "    text=re.sub(r'\\W', ' ', text)\n",
        "    text=re.sub(r'\\s+[a-zA-Z]\\s+', ' ', text)\n",
        "    text=re.sub(r'\\^[a-zA-Z]\\s+', ' ', text) \n",
        "    text=re.sub(r'\\s+', ' ', text, flags=re.I)\n",
        "    text=re.sub(r'^b\\s+', '', text)\n",
        "    text=[char for char in text if char not in string.punctuation]\n",
        "    text=''.join(text)\n",
        "    text=[word for word in text.split() if word.lower() not in stopwords.words('english')]\n",
        "    text=\" \".join(text)\n",
        "    text=[lemmatizer.lemmatize(w,pos='v') for w in text.split()]\n",
        "    return \" \".join(text)\n",
        "    "
      ],
      "execution_count": null,
      "outputs": []
    },
    {
      "cell_type": "code",
      "metadata": {
        "id": "prCytsGZnFIO"
      },
      "source": [
        "data_train_new['preprocessed']=data_train_new.loc[:,'Consumer complaint narrative'].apply(preprocess)"
      ],
      "execution_count": null,
      "outputs": []
    },
    {
      "cell_type": "code",
      "metadata": {
        "id": "qOuVYXLlMjbz"
      },
      "source": [
        "data_train_new"
      ],
      "execution_count": null,
      "outputs": []
    },
    {
      "cell_type": "code",
      "metadata": {
        "id": "IUH8EVvJgrLu"
      },
      "source": [
        "data_train_new['preprocessed'].iloc[1,]"
      ],
      "execution_count": null,
      "outputs": []
    },
    {
      "cell_type": "code",
      "metadata": {
        "id": "yX9_C18tn_3j"
      },
      "source": [
        "#tf-idf vectorise \n",
        "from sklearn.feature_extraction.text import TfidfVectorizer \n",
        "#unigrams with max_features=50\n",
        "vectorizer=TfidfVectorizer(lowercase=True,max_features=50,ngram_range=(1,1))\n",
        "X=data_train_new['preprocessed'].values\n",
        "Y=data_train_new['Product'].values\n",
        "from sklearn.preprocessing import LabelEncoder\n",
        "lb=LabelEncoder()\n",
        "Y=lb.fit_transform(Y)\n",
        "from sklearn.model_selection import train_test_split\n",
        "x_train,x_test,y_train,y_test=train_test_split(X,Y,test_size=0.3,random_state=42)\n",
        "x_train_idf=vectorizer.fit_transform(x_train)\n",
        "x_test_idf=vectorizer.transform(x_test)\n",
        "\n",
        "\n"
      ],
      "execution_count": null,
      "outputs": []
    },
    {
      "cell_type": "code",
      "metadata": {
        "colab": {
          "base_uri": "https://localhost:8080/"
        },
        "id": "_K4eEwJcg0f4",
        "outputId": "682c9ba3-2dba-4781-8ed4-bc519f24ecbd"
      },
      "source": [
        "#Training the model\n",
        "from sklearn.naive_bayes import MultinomialNB\n",
        "mnb=MultinomialNB()\n",
        "mnb.fit(x_train_idf,y_train)\n"
      ],
      "execution_count": null,
      "outputs": [
        {
          "output_type": "execute_result",
          "data": {
            "text/plain": [
              "MultinomialNB(alpha=1.0, class_prior=None, fit_prior=True)"
            ]
          },
          "metadata": {
            "tags": []
          },
          "execution_count": 75
        }
      ]
    },
    {
      "cell_type": "markdown",
      "metadata": {
        "id": "NgBfiWKbWzY6"
      },
      "source": [
        "**Accuracy with mnb**"
      ]
    },
    {
      "cell_type": "code",
      "metadata": {
        "id": "l6J3qpeL0wAf",
        "colab": {
          "base_uri": "https://localhost:8080/"
        },
        "outputId": "f58b0b36-bd81-4d19-9f9d-5c3e19a2d63e"
      },
      "source": [
        "#predicting the product variable\n",
        "pred=mnb.predict(x_test_idf)\n",
        "pred"
      ],
      "execution_count": null,
      "outputs": [
        {
          "output_type": "execute_result",
          "data": {
            "text/plain": [
              "array([4, 6, 3, ..., 3, 2, 0])"
            ]
          },
          "metadata": {
            "tags": []
          },
          "execution_count": 76
        }
      ]
    },
    {
      "cell_type": "code",
      "metadata": {
        "colab": {
          "base_uri": "https://localhost:8080/"
        },
        "id": "evUv-jYK05RA",
        "outputId": "6e10849a-6c5d-4d9a-86f8-5f8aec036be9"
      },
      "source": [
        "from sklearn.metrics import accuracy_score\n",
        "print(accuracy_score(y_test,pred))"
      ],
      "execution_count": null,
      "outputs": [
        {
          "output_type": "stream",
          "text": [
            "0.6399667734662394\n"
          ],
          "name": "stdout"
        }
      ]
    },
    {
      "cell_type": "markdown",
      "metadata": {
        "id": "HL7bMXzMW3qF"
      },
      "source": [
        "**Accuracy with Svm**"
      ]
    },
    {
      "cell_type": "code",
      "metadata": {
        "colab": {
          "base_uri": "https://localhost:8080/"
        },
        "id": "iecJULmOP51_",
        "outputId": "76b5e602-10ae-425d-b9af-89448d7e4c19"
      },
      "source": [
        "from sklearn.svm import SVC\n",
        "svc=SVC(kernel='linear')\n",
        "svc.fit(x_train_idf,y_train)"
      ],
      "execution_count": null,
      "outputs": [
        {
          "output_type": "execute_result",
          "data": {
            "text/plain": [
              "SVC(C=1.0, break_ties=False, cache_size=200, class_weight=None, coef0=0.0,\n",
              "    decision_function_shape='ovr', degree=3, gamma='scale', kernel='linear',\n",
              "    max_iter=-1, probability=False, random_state=None, shrinking=True,\n",
              "    tol=0.001, verbose=False)"
            ]
          },
          "metadata": {
            "tags": []
          },
          "execution_count": 78
        }
      ]
    },
    {
      "cell_type": "code",
      "metadata": {
        "id": "vVWTrGpvRUTo"
      },
      "source": [
        "pred_s=svc.predict(x_test_idf)"
      ],
      "execution_count": null,
      "outputs": []
    },
    {
      "cell_type": "code",
      "metadata": {
        "colab": {
          "base_uri": "https://localhost:8080/"
        },
        "id": "b_GnfZUTS2oN",
        "outputId": "49cc9899-897d-4044-da03-ec875a02cda8"
      },
      "source": [
        "acc_score_s=accuracy_score(y_test,pred_s)\n",
        "acc_score_s"
      ],
      "execution_count": null,
      "outputs": [
        {
          "output_type": "execute_result",
          "data": {
            "text/plain": [
              "0.6972825442031565"
            ]
          },
          "metadata": {
            "tags": []
          },
          "execution_count": 80
        }
      ]
    },
    {
      "cell_type": "markdown",
      "metadata": {
        "id": "Hm6110H-P_4d"
      },
      "source": [
        "**Final missing values analysis**"
      ]
    },
    {
      "cell_type": "code",
      "metadata": {
        "colab": {
          "base_uri": "https://localhost:8080/"
        },
        "id": "W9Nk2fUVP_CD",
        "outputId": "0080d75a-d04a-42ae-da79-b09b5fe281a8"
      },
      "source": [
        "\n",
        "data_train['Company public response_null']=np.where(data_train['Company public response'].isnull(),1,0)\n",
        "data_train.groupby(['Consumer disputed?'])['Company public response_null'].mean()\n",
        "# company public response is missing at random so can be imputed by most frequent category"
      ],
      "execution_count": null,
      "outputs": [
        {
          "output_type": "execute_result",
          "data": {
            "text/plain": [
              "Consumer disputed?\n",
              "No     0.809240\n",
              "Yes    0.816009\n",
              "Name: Company public response_null, dtype: float64"
            ]
          },
          "metadata": {
            "tags": []
          },
          "execution_count": 3
        }
      ]
    },
    {
      "cell_type": "code",
      "metadata": {
        "colab": {
          "base_uri": "https://localhost:8080/"
        },
        "id": "koMor3thSLsq",
        "outputId": "0f29aefb-bb31-4fcb-c3a5-ac86d50a6445"
      },
      "source": [
        "data_train['Consumer consent provided?_null']=np.where(data_train['Consumer consent provided?'].isnull(),1,0)\n",
        "data_train.groupby(['Consumer disputed?'])['Consumer consent provided?_null'].mean()"
      ],
      "execution_count": null,
      "outputs": [
        {
          "output_type": "execute_result",
          "data": {
            "text/plain": [
              "Consumer disputed?\n",
              "No     0.724110\n",
              "Yes    0.690135\n",
              "Name: Consumer consent provided?_null, dtype: float64"
            ]
          },
          "metadata": {
            "tags": []
          },
          "execution_count": 5
        }
      ]
    },
    {
      "cell_type": "code",
      "metadata": {
        "colab": {
          "base_uri": "https://localhost:8080/"
        },
        "id": "mfqPjoycTdkf",
        "outputId": "33863853-6e75-44b2-b9d3-b811b419a2c4"
      },
      "source": [
        "data_train['Consumer complaint narrative_null']=np.where(data_train['Consumer complaint narrative'].isnull(),1,0)\n",
        "data_train.groupby(['Consumer disputed?'])['Consumer complaint narrative_null'].mean()"
      ],
      "execution_count": null,
      "outputs": [
        {
          "output_type": "execute_result",
          "data": {
            "text/plain": [
              "Consumer disputed?\n",
              "No     0.851276\n",
              "Yes    0.814302\n",
              "Name: Consumer complaint narrative_null, dtype: float64"
            ]
          },
          "metadata": {
            "tags": []
          },
          "execution_count": 6
        }
      ]
    },
    {
      "cell_type": "code",
      "metadata": {
        "colab": {
          "base_uri": "https://localhost:8080/"
        },
        "id": "7OkHRPSQXp2y",
        "outputId": "cdc74cb6-f8fd-4e35-c67a-14f561f3d081"
      },
      "source": [
        "data_train['Sub-issue_null']=np.where(data_train['Sub-issue'].isnull(),1,0)\n",
        "data_train.groupby(['Consumer disputed?'])['Sub-issue_null'].mean()"
      ],
      "execution_count": null,
      "outputs": [
        {
          "output_type": "execute_result",
          "data": {
            "text/plain": [
              "Consumer disputed?\n",
              "No     0.600015\n",
              "Yes    0.653613\n",
              "Name: Sub-issue_null, dtype: float64"
            ]
          },
          "metadata": {
            "tags": []
          },
          "execution_count": 7
        }
      ]
    },
    {
      "cell_type": "code",
      "metadata": {
        "colab": {
          "base_uri": "https://localhost:8080/"
        },
        "id": "V_p3kSF5ZGPT",
        "outputId": "5a11852f-59e9-42cb-8154-5f59fd6f96e6"
      },
      "source": [
        "data_train['Sub-product_null']=np.where(data_train['Sub-product'].isnull(),1,0)\n",
        "data_train.groupby(['Consumer disputed?'])['Sub-product_null'].mean()"
      ],
      "execution_count": null,
      "outputs": [
        {
          "output_type": "execute_result",
          "data": {
            "text/plain": [
              "Consumer disputed?\n",
              "No     0.295682\n",
              "Yes    0.265386\n",
              "Name: Sub-product_null, dtype: float64"
            ]
          },
          "metadata": {
            "tags": []
          },
          "execution_count": 8
        }
      ]
    },
    {
      "cell_type": "code",
      "metadata": {
        "colab": {
          "base_uri": "https://localhost:8080/"
        },
        "id": "0TbCjiVWaRph",
        "outputId": "95a3db33-af64-4b5f-f938-7b52de952824"
      },
      "source": [
        "data_train['State']=np.where(data_train['State'].isnull(),1,0)\n",
        "data_train.groupby(['Consumer disputed?'])['State'].mean()"
      ],
      "execution_count": null,
      "outputs": [
        {
          "output_type": "execute_result",
          "data": {
            "text/plain": [
              "Consumer disputed?\n",
              "No     0.008414\n",
              "Yes    0.006892\n",
              "Name: State, dtype: float64"
            ]
          },
          "metadata": {
            "tags": []
          },
          "execution_count": 18
        }
      ]
    },
    {
      "cell_type": "markdown",
      "metadata": {
        "id": "iklsrl8kOfEW"
      },
      "source": [
        "**Part 3 model classification and feature engineering**"
      ]
    },
    {
      "cell_type": "code",
      "metadata": {
        "id": "Zzr2iiHASSLi"
      },
      "source": [
        "\n",
        "#extract month and weekdays of date received and sent to the company \n",
        "\n",
        "data_train['month sent to company']=data_train['Date sent to company'].dt.month\n",
        "data_train['month received']=data_train['Date received'].dt.month\n",
        "\n",
        "\n",
        "data_train"
      ],
      "execution_count": null,
      "outputs": []
    },
    {
      "cell_type": "code",
      "metadata": {
        "id": "mGkdBY1-t3gG"
      },
      "source": [
        "#remove irrelevant features\n",
        "data_train_rel=data_train.drop(['Date received','Date sent to company','Consumer complaint narrative'],axis=1)\n",
        "data_train_rel"
      ],
      "execution_count": null,
      "outputs": []
    },
    {
      "cell_type": "code",
      "metadata": {
        "colab": {
          "base_uri": "https://localhost:8080/"
        },
        "id": "IQcKe5XTwGTR",
        "outputId": "944ba7e8-e256-40c2-8b94-5f907554b0d7"
      },
      "source": [
        "#Splitting dataset \n",
        "X=data_train_rel.drop(['Consumer disputed?'],axis=1)\n",
        "Y=data_train_rel['Consumer disputed?']\n",
        "from sklearn.preprocessing import LabelEncoder\n",
        "lb=LabelEncoder()\n",
        "Y=lb.fit_transform(Y)\n",
        "from sklearn.model_selection import train_test_split\n",
        "X_train,X_val,Y_train,Y_val=train_test_split(X,Y,test_size=0.3,random_state=42,stratify=Y,shuffle=True)\n"
      ],
      "execution_count": null,
      "outputs": [
        {
          "output_type": "execute_result",
          "data": {
            "text/plain": [
              "array([0, 1, 0, ..., 1, 0, 0])"
            ]
          },
          "metadata": {
            "tags": []
          },
          "execution_count": 84
        }
      ]
    },
    {
      "cell_type": "code",
      "metadata": {
        "id": "lFCpO0LqvE2L"
      },
      "source": [
        "#numerical columns of training data\n",
        "num_cols=[i for i in X_train.columns if X_train[i].dtypes!=\"O\"]\n",
        "#categorical columns of training data\n",
        "cat_cols=[i for i in X_train.columns if X_train[i].dtypes==\"O\"]\n",
        "cat_cols\n"
      ],
      "execution_count": null,
      "outputs": []
    },
    {
      "cell_type": "code",
      "metadata": {
        "id": "pAqMzVEMvkSS"
      },
      "source": [
        "from sklearn.preprocessing import RobustScaler, OneHotEncoder, StandardScaler, MinMaxScaler\n",
        "from sklearn.pipeline import Pipeline\n",
        "from sklearn.compose import ColumnTransformer\n",
        "from sklearn.impute import SimpleImputer\n",
        "from sklearn.ensemble import RandomForestRegressor"
      ],
      "execution_count": null,
      "outputs": []
    },
    {
      "cell_type": "code",
      "metadata": {
        "id": "eYGzFzEy_L2G"
      },
      "source": [
        "#impute missing values for training \n",
        "for i in cat_cols:\n",
        "       X_train[i]=X_train[i].fillna(X_train[i].mode()[0])\n",
        "#impute missing values for validation\n",
        "for i in cat_cols:\n",
        "      X_val[i]=X_val[i].fillna(X_val[i].mode()[0])"
      ],
      "execution_count": null,
      "outputs": []
    },
    {
      "cell_type": "code",
      "metadata": {
        "colab": {
          "base_uri": "https://localhost:8080/"
        },
        "id": "7niFFlNaBD9T",
        "outputId": "8c397bc4-b8fe-4600-9462-72243e1e605e"
      },
      "source": [
        "#null values after imputing \n",
        "X_train.isnull().sum()"
      ],
      "execution_count": null,
      "outputs": [
        {
          "output_type": "execute_result",
          "data": {
            "text/plain": [
              "Product                         0\n",
              "Sub-product                     0\n",
              "Issue                           0\n",
              "Company public response         0\n",
              "Company                         0\n",
              "State                           0\n",
              "Consumer consent provided?      0\n",
              "Submitted via                   0\n",
              "Company response to consumer    0\n",
              "Timely response?                0\n",
              "month sent to company           0\n",
              "month received                  0\n",
              "dtype: int64"
            ]
          },
          "metadata": {
            "tags": []
          },
          "execution_count": 10
        }
      ]
    },
    {
      "cell_type": "code",
      "metadata": {
        "colab": {
          "base_uri": "https://localhost:8080/"
        },
        "id": "le4pyV7qo_sy",
        "outputId": "89f7b570-0791-493f-f38f-77853699f5eb"
      },
      "source": [
        "#null values after imputing \n",
        "X_val.isnull().sum()"
      ],
      "execution_count": null,
      "outputs": [
        {
          "output_type": "execute_result",
          "data": {
            "text/plain": [
              "Product                         0\n",
              "Sub-product                     0\n",
              "Issue                           0\n",
              "Company public response         0\n",
              "Company                         0\n",
              "State                           0\n",
              "Consumer consent provided?      0\n",
              "Submitted via                   0\n",
              "Company response to consumer    0\n",
              "Timely response?                0\n",
              "month sent to company           0\n",
              "month received                  0\n",
              "dtype: int64"
            ]
          },
          "metadata": {
            "tags": []
          },
          "execution_count": 11
        }
      ]
    },
    {
      "cell_type": "markdown",
      "metadata": {
        "id": "1N4zPI0cNq_w"
      },
      "source": [
        "**Encode categorical variables**"
      ]
    },
    {
      "cell_type": "code",
      "metadata": {
        "id": "VDUbu1zdCLfW"
      },
      "source": [
        "#encode categorical variables \n",
        "def encode(df,column):\n",
        "         top10=df[column].value_counts().sort_values(ascending=False).head(10).index\n",
        "         for categories in top10:\n",
        "            df[categories]=np.where(df[column]==categories,1,0)\n",
        "\n"
      ],
      "execution_count": null,
      "outputs": []
    },
    {
      "cell_type": "code",
      "metadata": {
        "id": "AwuLixhCH7Jh"
      },
      "source": [
        "for i in cat_cols:\n",
        "      encode(X_train,i)"
      ],
      "execution_count": null,
      "outputs": []
    },
    {
      "cell_type": "code",
      "metadata": {
        "id": "af8z4xwTpZSf"
      },
      "source": [
        "for i in cat_cols:\n",
        "    encode(X_val,i)"
      ],
      "execution_count": null,
      "outputs": []
    },
    {
      "cell_type": "code",
      "metadata": {
        "id": "Bio5EEgrJvWe"
      },
      "source": [
        "X_train=X_train.drop(cat_cols,axis=1)\n"
      ],
      "execution_count": null,
      "outputs": []
    },
    {
      "cell_type": "code",
      "metadata": {
        "id": "nmeWhUeBnkiD"
      },
      "source": [
        "X_val=X_val.drop(cat_cols,axis=1)"
      ],
      "execution_count": null,
      "outputs": []
    },
    {
      "cell_type": "code",
      "metadata": {
        "id": "kBslbGin73ka"
      },
      "source": [
        "X_val"
      ],
      "execution_count": null,
      "outputs": []
    },
    {
      "cell_type": "markdown",
      "metadata": {
        "id": "Kxp_BWQ0N0-g"
      },
      "source": [
        "**Model fitting and accuracy score**"
      ]
    },
    {
      "cell_type": "code",
      "metadata": {
        "colab": {
          "base_uri": "https://localhost:8080/"
        },
        "id": "7U-xwB8K6gvP",
        "outputId": "87635320-d177-48b8-c6b8-ffaffe41784b"
      },
      "source": [
        "from sklearn.naive_bayes import MultinomialNB\n",
        "mnb=MultinomialNB()\n",
        "mnb.fit(X_train,Y_train)"
      ],
      "execution_count": null,
      "outputs": [
        {
          "output_type": "execute_result",
          "data": {
            "text/plain": [
              "MultinomialNB(alpha=1.0, class_prior=None, fit_prior=True)"
            ]
          },
          "metadata": {
            "tags": []
          },
          "execution_count": 19
        }
      ]
    },
    {
      "cell_type": "code",
      "metadata": {
        "id": "_VpaYRjO1MKj",
        "colab": {
          "base_uri": "https://localhost:8080/"
        },
        "outputId": "ce98c991-6820-415f-b5da-0df21b0900d9"
      },
      "source": [
        "Y_train_df=pd.DataFrame(Y_train)\n",
        "Y_train_df.value_counts()"
      ],
      "execution_count": null,
      "outputs": [
        {
          "output_type": "execute_result",
          "data": {
            "text/plain": [
              "0    197847\n",
              "1     53320\n",
              "dtype: int64"
            ]
          },
          "metadata": {
            "tags": []
          },
          "execution_count": 20
        }
      ]
    },
    {
      "cell_type": "code",
      "metadata": {
        "id": "VxzT1kJt32kg",
        "colab": {
          "base_uri": "https://localhost:8080/"
        },
        "outputId": "10f360fa-d90f-4526-ca93-d8c02931bd32"
      },
      "source": [
        "#accuracy score\n",
        "pred=mnb.predict(X_val)\n",
        "score=mnb.score(X_val,Y_val)\n",
        "from sklearn.metrics import accuracy_score\n",
        "accuracy_score(Y_val,pred)"
      ],
      "execution_count": null,
      "outputs": [
        {
          "output_type": "execute_result",
          "data": {
            "text/plain": [
              "0.7875384372416228"
            ]
          },
          "metadata": {
            "tags": []
          },
          "execution_count": 21
        }
      ]
    },
    {
      "cell_type": "code",
      "metadata": {
        "id": "jr3L8oIFv6Cz",
        "colab": {
          "base_uri": "https://localhost:8080/"
        },
        "outputId": "57311cb8-01a3-46f4-9b7e-27fa60e8b4c6"
      },
      "source": [
        "Y_val_df=pd.DataFrame(Y_val)\n",
        "Y_val_df.value_counts()"
      ],
      "execution_count": null,
      "outputs": [
        {
          "output_type": "execute_result",
          "data": {
            "text/plain": [
              "0    84791\n",
              "1    22852\n",
              "dtype: int64"
            ]
          },
          "metadata": {
            "tags": []
          },
          "execution_count": 22
        }
      ]
    },
    {
      "cell_type": "code",
      "metadata": {
        "id": "GhahyNgskIPy"
      },
      "source": [
        "for i in cat_cols:\n",
        "      X[i]=X[i].fillna(X[i].mode()[0])"
      ],
      "execution_count": null,
      "outputs": []
    },
    {
      "cell_type": "code",
      "metadata": {
        "id": "rLQ5lpKClAux"
      },
      "source": [
        "for i in cat_cols:\n",
        "      encode(X,i)"
      ],
      "execution_count": null,
      "outputs": []
    },
    {
      "cell_type": "markdown",
      "metadata": {
        "id": "7YSInyNCNi13"
      },
      "source": [
        "**Cross validation**"
      ]
    },
    {
      "cell_type": "code",
      "metadata": {
        "id": "BivpCghalK5K"
      },
      "source": [
        "X=X.drop(cat_cols,axis=1)"
      ],
      "execution_count": null,
      "outputs": []
    },
    {
      "cell_type": "code",
      "metadata": {
        "id": "z0jGVSuvlmEx",
        "colab": {
          "base_uri": "https://localhost:8080/"
        },
        "outputId": "54c06138-acec-4e96-9e41-497f21aaaee9"
      },
      "source": [
        "\n",
        "\n",
        "mnb.fit(X,Y)"
      ],
      "execution_count": null,
      "outputs": [
        {
          "output_type": "execute_result",
          "data": {
            "text/plain": [
              "MultinomialNB(alpha=1.0, class_prior=None, fit_prior=True)"
            ]
          },
          "metadata": {
            "tags": []
          },
          "execution_count": 26
        }
      ]
    },
    {
      "cell_type": "code",
      "metadata": {
        "colab": {
          "base_uri": "https://localhost:8080/"
        },
        "id": "vZsC87vFghAs",
        "outputId": "ef4d6402-e2c8-4f99-9885-435342ba2e1a"
      },
      "source": [
        "#cross_val_Score\n",
        "from sklearn.model_selection import KFold\n",
        "from sklearn.model_selection import cross_val_score\n",
        "kfold=KFold(n_splits=5,random_state=100,shuffle=True)\n",
        "crossval=cross_val_score(mnb,X,Y,scoring='accuracy',cv=kfold,n_jobs=-1)\n",
        "print(crossval.mean())"
      ],
      "execution_count": null,
      "outputs": [
        {
          "output_type": "stream",
          "text": [
            "0.7873693598283213\n"
          ],
          "name": "stdout"
        }
      ]
    },
    {
      "cell_type": "markdown",
      "metadata": {
        "id": "kIJ6smulwBbX"
      },
      "source": [
        "**Model training and Evaluation**"
      ]
    },
    {
      "cell_type": "code",
      "metadata": {
        "id": "e5aCvAZa4P8O"
      },
      "source": [
        "#hyperparameter optimisation\n",
        "alpha=[0,0.5,1]\n",
        "\n",
        "\n",
        "grid={'alpha':alpha,\n",
        "}"
      ],
      "execution_count": null,
      "outputs": []
    },
    {
      "cell_type": "code",
      "metadata": {
        "id": "PN2jDv5n372B"
      },
      "source": [
        "from sklearn.model_selection import RandomizedSearchCV\n",
        "random_cv=RandomizedSearchCV(estimator=mnb,param_distributions=grid,cv=5,n_iter=50,scoring='accuracy',verbose=5,random_state=0,return_train_score=True)"
      ],
      "execution_count": null,
      "outputs": []
    },
    {
      "cell_type": "code",
      "metadata": {
        "id": "20-qVwhw4I4n"
      },
      "source": [
        "random_cv.fit(X_train,Y_train)"
      ],
      "execution_count": null,
      "outputs": []
    },
    {
      "cell_type": "code",
      "metadata": {
        "colab": {
          "base_uri": "https://localhost:8080/"
        },
        "id": "bxScPXwgtvef",
        "outputId": "2e5c09c8-ac14-4cf3-c99a-1ab7cdebc50b"
      },
      "source": [
        "random_cv.best_estimator_"
      ],
      "execution_count": null,
      "outputs": [
        {
          "output_type": "execute_result",
          "data": {
            "text/plain": [
              "MultinomialNB(alpha=1, class_prior=None, fit_prior=True)"
            ]
          },
          "metadata": {
            "tags": []
          },
          "execution_count": 31
        }
      ]
    },
    {
      "cell_type": "code",
      "metadata": {
        "id": "u8d9qF7zt-rT"
      },
      "source": [
        "mnb_best=MultinomialNB(alpha=1.0, class_prior=None,\n",
        "                                           fit_prior=True)\n",
        "                 "
      ],
      "execution_count": null,
      "outputs": []
    },
    {
      "cell_type": "code",
      "metadata": {
        "colab": {
          "base_uri": "https://localhost:8080/"
        },
        "id": "rkRfpIz3uEqz",
        "outputId": "7824ab17-d004-44e3-e242-260b21386409"
      },
      "source": [
        "mnb_best.fit(X_train,Y_train)"
      ],
      "execution_count": null,
      "outputs": [
        {
          "output_type": "execute_result",
          "data": {
            "text/plain": [
              "MultinomialNB(alpha=1.0, class_prior=None, fit_prior=True)"
            ]
          },
          "metadata": {
            "tags": []
          },
          "execution_count": 33
        }
      ]
    },
    {
      "cell_type": "code",
      "metadata": {
        "id": "UzJ7P07LuK_f"
      },
      "source": [
        "pred=mnb_best.predict(X_val)"
      ],
      "execution_count": null,
      "outputs": []
    },
    {
      "cell_type": "code",
      "metadata": {
        "colab": {
          "base_uri": "https://localhost:8080/"
        },
        "id": "_L_S3dREuVtg",
        "outputId": "d6a09600-3671-4ac7-e209-0739625ebc53"
      },
      "source": [
        "#accuracy on validation data \n",
        "accuracy_score(Y_val,pred)"
      ],
      "execution_count": null,
      "outputs": [
        {
          "output_type": "execute_result",
          "data": {
            "text/plain": [
              "0.7875384372416228"
            ]
          },
          "metadata": {
            "tags": []
          },
          "execution_count": 35
        }
      ]
    },
    {
      "cell_type": "code",
      "metadata": {
        "id": "IKyb6wd5ug86"
      },
      "source": [
        "test_df=pd.read_csv(\"/content/datatestfinal.csv\")\n",
        "test_df=test_df.drop(['Unnamed: 0'],axis=1)"
      ],
      "execution_count": null,
      "outputs": []
    },
    {
      "cell_type": "code",
      "metadata": {
        "id": "0LApdgwOLFdV"
      },
      "source": [
        "#encoding test data\n",
        "for i in cat_cols:\n",
        "      encode(test_df,i)\n"
      ],
      "execution_count": null,
      "outputs": []
    },
    {
      "cell_type": "code",
      "metadata": {
        "id": "jDdUZdTum0Tx"
      },
      "source": [
        "\n",
        "test_df=test_df.drop(cat_cols,axis=1)"
      ],
      "execution_count": null,
      "outputs": []
    },
    {
      "cell_type": "code",
      "metadata": {
        "id": "jmtwumQ7Af41"
      },
      "source": [
        "mnb_fit=mnb_best.fit(X,Y)"
      ],
      "execution_count": null,
      "outputs": []
    },
    {
      "cell_type": "code",
      "metadata": {
        "id": "dKViG8IAPvwq"
      },
      "source": [
        "pred_test=mnb_fit.predict(test_df)"
      ],
      "execution_count": null,
      "outputs": []
    },
    {
      "cell_type": "code",
      "metadata": {
        "id": "T7TmGuOwbYWH",
        "colab": {
          "base_uri": "https://localhost:8080/"
        },
        "outputId": "d707945a-860b-45f8-c284-31f6ce03568f"
      },
      "source": [
        "pred_Df=pd.DataFrame(pred_test)\n",
        "pred_Df=pred_Df.replace({0:\"No\",1:\"Yes\"})\n",
        "pred_Df.value_counts()"
      ],
      "execution_count": null,
      "outputs": [
        {
          "output_type": "execute_result",
          "data": {
            "text/plain": [
              "No     119515\n",
              "Yes        91\n",
              "dtype: int64"
            ]
          },
          "metadata": {
            "tags": []
          },
          "execution_count": 80
        }
      ]
    },
    {
      "cell_type": "code",
      "metadata": {
        "id": "cp0yjxPttqXO"
      },
      "source": [
        "pred_Df.to_csv('submissionfinal3.csv',index=False,header=False)"
      ],
      "execution_count": null,
      "outputs": []
    },
    {
      "cell_type": "code",
      "metadata": {
        "id": "i8h52J-NamSL"
      },
      "source": [
        ""
      ],
      "execution_count": null,
      "outputs": []
    }
  ]
}